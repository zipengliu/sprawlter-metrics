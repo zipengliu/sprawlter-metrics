{
 "cells": [
  {
   "cell_type": "code",
   "execution_count": 3,
   "metadata": {
    "ExecuteTime": {
     "end_time": "2018-09-27T20:02:29.036566Z",
     "start_time": "2018-09-27T20:02:29.030176Z"
    }
   },
   "outputs": [],
   "source": [
    "from tulip import tlp\n",
    "from multilevel_metrics import MultiLevelMetrics"
   ]
  },
  {
   "cell_type": "code",
   "execution_count": 9,
   "metadata": {
    "ExecuteTime": {
     "end_time": "2018-09-27T20:10:43.254735Z",
     "start_time": "2018-09-27T20:10:43.245684Z"
    }
   },
   "outputs": [],
   "source": [
    "graph = tlp.loadGraph('../data/four-clusters1/four-clusters1-metanode-metanode-overlap1.tlp')"
   ]
  },
  {
   "cell_type": "code",
   "execution_count": 10,
   "metadata": {
    "ExecuteTime": {
     "end_time": "2018-09-27T20:10:43.754584Z",
     "start_time": "2018-09-27T20:10:43.701966Z"
    }
   },
   "outputs": [
    {
     "name": "stdout",
     "output_type": "stream",
     "text": [
      "(meta-)node <node 1> overlaps with (meta-)node <graph \"unnamed\" (id 2) > (overlap area: 0.759208366793, penalty: 0.785398163397)\n",
      "(meta-)node <node 2> overlaps with (meta-)node <node 18> (overlap area: 0.162871121338, penalty: 0.319950754018)\n",
      "(meta-)node <node 2> overlaps with (meta-)node <node 19> (overlap area: 0.0477744333682, penalty: 0.204854066048)\n",
      "(meta-)node <node 2> overlaps with (meta-)node <graph \"unnamed\" (id 2) > (overlap area: 0.785398163397, penalty: 0.785398163397)\n",
      "(meta-)node <node 3> overlaps with (meta-)node <node 18> (overlap area: 0.0405540730037, penalty: 0.197633705683)\n",
      "(meta-)node <node 3> overlaps with (meta-)node <graph \"unnamed\" (id 2) > (overlap area: 0.785398163397, penalty: 0.785398163397)\n",
      "(meta-)node <node 4> overlaps with (meta-)node <graph \"unnamed\" (id 2) > (overlap area: 0.785398163397, penalty: 0.785398163397)\n",
      "(meta-)node <node 5> overlaps with (meta-)node <graph \"unnamed\" (id 2) > (overlap area: 0.343704331022, penalty: 0.500783963701)\n",
      "(meta-)node <node 10> overlaps with (meta-)node <graph \"unnamed\" (id 1) > (overlap area: 0.0899484257401, penalty: 0.24702805842)\n",
      "(meta-)node <node 12> overlaps with (meta-)node <graph \"unnamed\" (id 1) > (overlap area: 0.0160988272804, penalty: 0.17317845996)\n",
      "(meta-)node <node 17> overlaps with (meta-)node <graph \"unnamed\" (id 1) > (overlap area: 0.362342824464, penalty: 0.519422457143)\n",
      "(meta-)node <node 18> overlaps with (meta-)node <graph \"unnamed\" (id 1) > (overlap area: 0.785398163397, penalty: 0.785398163397)\n",
      "(meta-)node <node 19> overlaps with (meta-)node <graph \"unnamed\" (id 1) > (overlap area: 0.785398163397, penalty: 0.785398163397)\n",
      "(meta-)node <node 26> overlaps with (meta-)node <graph \"unnamed\" (id 4) > (overlap area: 0.785398163397, penalty: 0.785398163397)\n",
      "(meta-)node <node 29> overlaps with (meta-)node <graph \"unnamed\" (id 4) > (overlap area: 0.566037102341, penalty: 0.723116735021)\n",
      "(meta-)node <node 34> overlaps with (meta-)node <graph \"unnamed\" (id 3) > (overlap area: 0.785398163397, penalty: 0.785398163397)\n",
      "(meta-)node <graph \"unnamed\" (id 1) > overlaps with (meta-)node <graph \"unnamed\" (id 2) > (overlap area: 13.5583129903, penalty: 21.6587348726)\n",
      "(meta-)node <graph \"unnamed\" (id 3) > overlaps with (meta-)node <graph \"unnamed\" (id 4) > (overlap area: 6.77628424815, penalty: 14.3103763485)\n",
      "(45.13826472830463, 18)\n"
     ]
    }
   ],
   "source": [
    "metrics = MultiLevelMetrics(graph)\n",
    "print metrics.getGraphNodeNodePenalty()"
   ]
  },
  {
   "cell_type": "code",
   "execution_count": 11,
   "metadata": {
    "ExecuteTime": {
     "end_time": "2018-09-27T20:10:45.182988Z",
     "start_time": "2018-09-27T20:10:44.910822Z"
    }
   },
   "outputs": [
    {
     "name": "stdout",
     "output_type": "stream",
     "text": [
      "(meta-)node <graph \"unnamed\" (id 2) > overlaps with edge <edge 5> (overlap area: 2.79927506482, penalty: 2.52523969735)\n",
      "(meta-)node <graph \"unnamed\" (id 2) > overlaps with edge <edge 6> (overlap area: 2.79927496841, penalty: 1.45803863952)\n",
      "(meta-)node <graph \"unnamed\" (id 2) > overlaps with edge <edge 8> (overlap area: 2.79927487201, penalty: 2.27511226364)\n",
      "(meta-)node <graph \"unnamed\" (id 2) > overlaps with edge <edge 9> (overlap area: 1.7058981408, penalty: 1.27649149322)\n",
      "(meta-)node <graph \"unnamed\" (id 2) > overlaps with edge <edge 12> (overlap area: 1.7058981408, penalty: 1.86520607803)\n",
      "(meta-)node <graph \"unnamed\" (id 2) > overlaps with edge <edge 15> (overlap area: 1.7058981408, penalty: 1.3159720586)\n",
      "(meta-)node <graph \"unnamed\" (id 2) > overlaps with edge <edge 16> (overlap area: 2.42834434721, penalty: 1.22824747408)\n",
      "(meta-)node <graph \"unnamed\" (id 2) > overlaps with edge <edge 17> (overlap area: 2.42936602018, penalty: 1.80011016535)\n",
      "(meta-)node <graph \"unnamed\" (id 2) > overlaps with edge <edge 18> (overlap area: 3.41159401221, penalty: 2.0716642882)\n",
      "(meta-)node <node 18> overlaps with edge <edge 19> (overlap area: 0.497971556737, penalty: 0.697971556737)\n",
      "(meta-)node <graph \"unnamed\" (id 2) > overlaps with edge <edge 19> (overlap area: 3.41159401221, penalty: 1.55213698181)\n",
      "(meta-)node <node 18> overlaps with edge <edge 20> (overlap area: 0.294401137292, penalty: 0.494401137292)\n",
      "(meta-)node <graph \"unnamed\" (id 2) > overlaps with edge <edge 20> (overlap area: 2.92086570542, penalty: 2.45712139576)\n",
      "(meta-)node <graph \"unnamed\" (id 2) > overlaps with edge <edge 21> (overlap area: 3.41159401221, penalty: 1.62197607195)\n",
      "(meta-)node <graph \"unnamed\" (id 2) > overlaps with edge <edge 22> (overlap area: 1.70589804328, penalty: 2.19547009837)\n",
      "(meta-)node <node 2> overlaps with edge <edge 24> (overlap area: 0.452690075579, penalty: 0.652690075579)\n",
      "(meta-)node <node 18> overlaps with edge <edge 24> (overlap area: 0.472274512203, penalty: 0.672274512203)\n",
      "(meta-)node <graph \"unnamed\" (id 1) > overlaps with edge <edge 29> (overlap area: 2.70136265739, penalty: 1.95270544908)\n",
      "(meta-)node <node 2> overlaps with edge <edge 30> (overlap area: 0.48514638768, penalty: 0.68514638768)\n",
      "(meta-)node <graph \"unnamed\" (id 1) > overlaps with edge <edge 30> (overlap area: 2.8336990975, penalty: 1.52082385251)\n",
      "(meta-)node <graph \"unnamed\" (id 1) > overlaps with edge <edge 31> (overlap area: 2.75457242832, penalty: 1.79904288532)\n",
      "(meta-)node <graph \"unnamed\" (id 1) > overlaps with edge <edge 33> (overlap area: 2.75457242832, penalty: 1.75222384705)\n",
      "(meta-)node <graph \"unnamed\" (id 1) > overlaps with edge <edge 34> (overlap area: 2.70136265739, penalty: 2.81316988973)\n",
      "(meta-)node <node 3> overlaps with edge <edge 35> (overlap area: 0.43920791421, penalty: 0.63920791421)\n",
      "(meta-)node <graph \"unnamed\" (id 1) > overlaps with edge <edge 35> (overlap area: 2.75457242832, penalty: 2.15846444709)\n",
      "(meta-)node <node 3> overlaps with edge <edge 37> (overlap area: 0.45787128931, penalty: 0.65787128931)\n",
      "(meta-)node <graph \"unnamed\" (id 1) > overlaps with edge <edge 37> (overlap area: 2.75457242832, penalty: 3.46629504903)\n",
      "(meta-)node <node 29> overlaps with edge <edge 52> (overlap area: 0.400215847335, penalty: 0.600215847335)\n",
      "(meta-)node <graph \"unnamed\" (id 1) > overlaps with edge <edge 52> (overlap area: 1.75147509976, penalty: 3.18770471021)\n",
      "(meta-)node <graph \"unnamed\" (id 3) > overlaps with edge <edge 52> (overlap area: 2.48117849304, penalty: 3.86629249526)\n",
      "(meta-)node <node 29> overlaps with edge <edge 53> (overlap area: 0.298154634591, penalty: 0.498154634591)\n",
      "(meta-)node <graph \"unnamed\" (id 3) > overlaps with edge <edge 53> (overlap area: 2.48117807064, penalty: 3.86629207287)\n",
      "(meta-)node <node 5> overlaps with edge <edge 54> (overlap area: 0.499976105646, penalty: 0.699976105646)\n",
      "(meta-)node <node 29> overlaps with edge <edge 54> (overlap area: 0.492965325368, penalty: 0.692965325368)\n",
      "(meta-)node <graph \"unnamed\" (id 1) > overlaps with edge <edge 54> (overlap area: 3.30204943476, penalty: 4.73827904521)\n",
      "(meta-)node <graph \"unnamed\" (id 3) > overlaps with edge <edge 54> (overlap area: 2.48117814618, penalty: 3.8662921484)\n",
      "(meta-)node <graph \"unnamed\" (id 1) > overlaps with edge <edge 55> (overlap area: 1.12183910601, penalty: 2.55806871645)\n",
      "(meta-)node <graph \"unnamed\" (id 1) > overlaps with edge <edge 56> (overlap area: 0.787092865735, penalty: 2.22332247618)\n",
      "(meta-)node <node 16> overlaps with edge <edge 58> (overlap area: 0.337732380797, penalty: 0.537732380797)\n",
      "(meta-)node <node 16> overlaps with edge <edge 59> (overlap area: 0.398401064593, penalty: 0.598401064593)\n",
      "(meta-)node <node 39> overlaps with edge <edge 59> (overlap area: 0.186984953359, penalty: 0.386984953359)\n",
      "(meta-)node <graph \"unnamed\" (id 3) > overlaps with edge <edge 65> (overlap area: 2.48117828184, penalty: 1.79045622487)\n",
      "(meta-)node <graph \"unnamed\" (id 3) > overlaps with edge <edge 66> (overlap area: 2.48117828184, penalty: 2.93410809081)\n",
      "(meta-)node <graph \"unnamed\" (id 3) > overlaps with edge <edge 67> (overlap area: 2.48117828184, penalty: 2.60978073113)\n",
      "(meta-)node <graph \"unnamed\" (id 4) > overlaps with edge <edge 83> (overlap area: 1.12647335205, penalty: 1.83437734077)\n",
      "(meta-)node <graph \"unnamed\" (id 4) > overlaps with edge <edge 84> (overlap area: 1.12647335205, penalty: 1.4953648791)\n",
      "(meta-)node <graph \"unnamed\" (id 4) > overlaps with edge <edge 85> (overlap area: 1.87383829552, penalty: 2.05992507728)\n",
      "(meta-)node <node 34> overlaps with edge <edge 86> (overlap area: 0.453940693012, penalty: 0.653940693012)\n",
      "(meta-)node <graph \"unnamed\" (id 4) > overlaps with edge <edge 86> (overlap area: 1.98387684167, penalty: 2.28457636887)\n",
      "(meta-)node <graph \"unnamed\" (id 4) > overlaps with edge <edge 93> (overlap area: 1.87383829552, penalty: 1.57965917614)\n",
      "(meta-)node <graph \"unnamed\" (id 4) > overlaps with edge <edge 94> (overlap area: 1.87383829552, penalty: 2.07258894874)\n",
      "(meta-)node <node 34> overlaps with edge <edge 106> (overlap area: 0.365420648499, penalty: 0.565420648499)\n",
      "(meta-)node <node 33> overlaps with edge <edge 107> (overlap area: 0.499677563553, penalty: 0.699677563553)\n",
      "(meta-)node <node 34> overlaps with edge <edge 107> (overlap area: 0.369595143513, penalty: 0.569595143513)\n",
      "(meta-)node <node 33> overlaps with edge <edge 108> (overlap area: 0.248098790733, penalty: 0.448098790733)\n",
      "(meta-)node <node 5> overlaps with edge <edge 111> (overlap area: 0.213981970944, penalty: 0.413981970944)\n",
      "(meta-)node <graph \"unnamed\" (id 2) > overlaps with edge <edge 111> (overlap area: 2.42834446596, penalty: 3.86967289614)\n",
      "(meta-)node <node 25> overlaps with edge <edge 114> (overlap area: 0.496198835287, penalty: 0.696198835287)\n",
      "(meta-)node <node 25> overlaps with edge <edge 115> (overlap area: 0.476593962868, penalty: 0.676593962868)\n",
      "(meta-)node <node 25> overlaps with edge <edge 116> (overlap area: 0.452937447376, penalty: 0.652937447376)\n",
      "(meta-)node <node 5> overlaps with edge <edge 117> (overlap area: 0.0899740510937, penalty: 0.289974051094)\n",
      "(meta-)node <node 25> overlaps with edge <edge 117> (overlap area: 0.398790296479, penalty: 0.598790296479)\n",
      "(meta-)node <graph \"unnamed\" (id 2) > overlaps with edge <edge 117> (overlap area: 2.4283446988, penalty: 3.86967312898)\n",
      "(meta-)node <graph \"unnamed\" (id 3) > overlaps with edge <edge 118> (overlap area: 2.48117828184, penalty: 2.98094740586)\n",
      "(107.57209664698706, 64)\n"
     ]
    }
   ],
   "source": [
    "print metrics.getGraphNodeEdgePenalty()"
   ]
  },
  {
   "cell_type": "code",
   "execution_count": 12,
   "metadata": {
    "ExecuteTime": {
     "end_time": "2018-09-27T20:10:45.597178Z",
     "start_time": "2018-09-27T20:10:45.191105Z"
    }
   },
   "outputs": [
    {
     "name": "stdout",
     "output_type": "stream",
     "text": [
      "Edge <edge 1> intersects with edge <edge 23>: angle 72.4684377466 (deg) penalty 0.711672217838\n",
      "Edge <edge 3> intersects with edge <edge 120>: angle 85.1301135687 (deg) penalty 0.486575758779\n",
      "Edge <edge 8> intersects with edge <edge 22>: angle 72.8799077995 (deg) penalty 0.704357194676\n",
      "Edge <edge 12> intersects with edge <edge 14>: angle 84.5758217707 (deg) penalty 0.496429835187\n",
      "Edge <edge 13> intersects with edge <edge 54>: angle 57.7818684154 (deg) penalty 0.972766783727\n",
      "Edge <edge 14> intersects with edge <edge 54>: angle 71.5559383775 (deg) penalty 0.727894428845\n",
      "Edge <edge 15> intersects with edge <edge 54>: angle 35.7942467213 (deg) penalty 1.36365783607\n",
      "Edge <edge 17> intersects with edge <edge 54>: angle 78.8192908713 (deg) penalty 0.598768162288\n",
      "Edge <edge 18> intersects with edge <edge 20>: angle 84.9687027302 (deg) penalty 0.489445284796\n",
      "Edge <edge 18> intersects with edge <edge 26>: angle 83.0924008019 (deg) penalty 0.522801763522\n",
      "Edge <edge 18> intersects with edge <edge 35>: angle 57.5410419488 (deg) penalty 0.977048143132\n",
      "Edge <edge 18> intersects with edge <edge 54>: angle 52.2642376328 (deg) penalty 1.07085799764\n",
      "Edge <edge 19> intersects with edge <edge 30>: angle 14.0591727522 (deg) penalty 1.75005915107\n",
      "Edge <edge 19> intersects with edge <edge 31>: angle 85.5581404214 (deg) penalty 0.478966392508\n",
      "Edge <edge 19> intersects with edge <edge 33>: angle 47.5918779091 (deg) penalty 1.1539221705\n",
      "Edge <edge 19> intersects with edge <edge 37>: angle 16.2072946341 (deg) penalty 1.71187031762\n",
      "Edge <edge 20> intersects with edge <edge 54>: angle 42.7670562964 (deg) penalty 1.23969677695\n",
      "Edge <edge 21> intersects with edge <edge 35>: angle 65.6831060232 (deg) penalty 0.832300337365\n",
      "Edge <edge 23> intersects with edge <edge 120>: angle 71.8282914933 (deg) penalty 0.723052595674\n",
      "Edge <edge 24> intersects with edge <edge 27>: angle 80.7513278161 (deg) penalty 0.564420838824\n",
      "Edge <edge 24> intersects with edge <edge 31>: angle 77.6965875486 (deg) penalty 0.618727332469\n",
      "Edge <edge 24> intersects with edge <edge 33>: angle 55.4534307819 (deg) penalty 1.01416123054\n",
      "Edge <edge 24> intersects with edge <edge 37>: angle 24.0688452235 (deg) penalty 1.57210941825\n",
      "Edge <edge 27> intersects with edge <edge 30>: angle 86.9489476955 (deg) penalty 0.454240929857\n",
      "Edge <edge 27> intersects with edge <edge 34>: angle 53.7076866797 (deg) penalty 1.04519668125\n",
      "Edge <edge 31> intersects with edge <edge 34>: angle 75.2597713149 (deg) penalty 0.662048509957\n",
      "Edge <edge 36> intersects with edge <edge 37>: angle 78.7530447823 (deg) penalty 0.599945870536\n",
      "Edge <edge 37> intersects with edge <edge 44>: angle 72.4261582539 (deg) penalty 0.712423853264\n",
      "Edge <edge 40> intersects with edge <edge 45>: angle 86.182870646 (deg) penalty 0.467860077405\n",
      "Edge <edge 42> intersects with edge <edge 121>: angle 78.307552608 (deg) penalty 0.607865731414\n",
      "Edge <edge 45> intersects with edge <edge 121>: angle 55.8378550079 (deg) penalty 1.00732702208\n",
      "Edge <edge 50> intersects with edge <edge 51>: angle 89.5392948775 (deg) penalty 0.408190313289\n",
      "Edge <edge 52> intersects with edge <edge 106>: angle 35.9518847655 (deg) penalty 1.36085538195\n",
      "Edge <edge 52> intersects with edge <edge 107>: angle 35.6878040983 (deg) penalty 1.36555014936\n",
      "Edge <edge 53> intersects with edge <edge 55>: angle 16.5935515147 (deg) penalty 1.70500352863\n",
      "Edge <edge 53> intersects with edge <edge 56>: angle 21.7572461185 (deg) penalty 1.61320451345\n",
      "Edge <edge 53> intersects with edge <edge 106>: angle 41.9130270175 (deg) penalty 1.25487951969\n",
      "Edge <edge 53> intersects with edge <edge 107>: angle 41.6489456698 (deg) penalty 1.2595742992\n",
      "Edge <edge 54> intersects with edge <edge 106>: angle 23.7962966221 (deg) penalty 1.57695472672\n",
      "Edge <edge 54> intersects with edge <edge 107>: angle 23.5322183931 (deg) penalty 1.58164945079\n",
      "Edge <edge 54> intersects with edge <edge 110>: angle 29.1345860772 (deg) penalty 1.48205180307\n",
      "Edge <edge 54> intersects with edge <edge 111>: angle 32.6186987629 (deg) penalty 1.42011202199\n",
      "Edge <edge 54> intersects with edge <edge 116>: angle 27.5026140679 (deg) penalty 1.51106463879\n",
      "Edge <edge 54> intersects with edge <edge 117>: angle 30.6005197772 (deg) penalty 1.45599075952\n",
      "Edge <edge 55> intersects with edge <edge 118>: angle 56.5641925793 (deg) penalty 0.994414354146\n",
      "Edge <edge 56> intersects with edge <edge 59>: angle 14.5271777592 (deg) penalty 1.74173906206\n",
      "Edge <edge 56> intersects with edge <edge 60>: angle 12.9127152144 (deg) penalty 1.77044061841\n",
      "Edge <edge 57> intersects with edge <edge 59>: angle 4.76943186124 (deg) penalty 1.91521010024\n",
      "Edge <edge 59> intersects with edge <edge 118>: angle 47.2007141222 (deg) penalty 1.16087619338\n",
      "Edge <edge 60> intersects with edge <edge 118>: angle 48.8151660527 (deg) penalty 1.13217482573\n",
      "Edge <edge 65> intersects with edge <edge 106>: angle 71.0339226126 (deg) penalty 0.737174709108\n",
      "Edge <edge 65> intersects with edge <edge 107>: angle 71.2980079219 (deg) penalty 0.732479859165\n",
      "Edge <edge 66> intersects with edge <edge 107>: angle 6.94344509276 (deg) penalty 1.87656097613\n",
      "Edge <edge 67> intersects with edge <edge 106>: angle 37.2707237241 (deg) penalty 1.33740935602\n",
      "Edge <edge 67> intersects with edge <edge 107>: angle 37.5348116345 (deg) penalty 1.33271445983\n",
      "Edge <edge 67> intersects with edge <edge 119>: angle 67.3708191143 (deg) penalty 0.802296549079\n",
      "Edge <edge 71> intersects with edge <edge 72>: angle 89.775545596 (deg) penalty 0.403990300516\n",
      "Edge <edge 78> intersects with edge <edge 81>: angle 70.3858062807 (deg) penalty 0.748696777232\n",
      "Edge <edge 79> intersects with edge <edge 80>: angle 77.0235033442 (deg) penalty 0.630693273882\n",
      "Edge <edge 80> intersects with edge <edge 81>: angle 71.2999360363 (deg) penalty 0.732445581577\n",
      "Edge <edge 82> intersects with edge <edge 114>: angle 84.1879557545 (deg) penalty 0.503325231031\n",
      "Edge <edge 82> intersects with edge <edge 116>: angle 89.3262379733 (deg) penalty 0.411977991586\n",
      "Edge <edge 82> intersects with edge <edge 117>: angle 87.5758522816 (deg) penalty 0.443095959438\n",
      "Edge <edge 83> intersects with edge <edge 114>: angle 71.410717107 (deg) penalty 0.730476140319\n",
      "Edge <edge 83> intersects with edge <edge 116>: angle 66.2724351272 (deg) penalty 0.821823375517\n",
      "Edge <edge 83> intersects with edge <edge 117>: angle 63.1745242679 (deg) penalty 0.876897346349\n",
      "Edge <edge 90> intersects with edge <edge 91>: angle 73.7277021958 (deg) penalty 0.689285294297\n",
      "Edge <edge 90> intersects with edge <edge 114>: angle 52.1817420213 (deg) penalty 1.07232458629\n",
      "Edge <edge 90> intersects with edge <edge 116>: angle 57.3200249411 (deg) penalty 0.98097733438\n",
      "Edge <edge 90> intersects with edge <edge 117>: angle 60.4179334021 (deg) penalty 0.925903406186\n",
      "Edge <edge 94> intersects with edge <edge 95>: angle 72.1047757617 (deg) penalty 0.718137319792\n",
      "Edge <edge 97> intersects with edge <edge 99>: angle 60.110431269 (deg) penalty 0.931370110773\n",
      "Edge <edge 98> intersects with edge <edge 122>: angle 74.3837362322 (deg) penalty 0.677622466982\n",
      "Edge <edge 98> intersects with edge <edge 123>: angle 80.663421393 (deg) penalty 0.565983619679\n",
      "Edge <edge 99> intersects with edge <edge 122>: angle 56.3184565463 (deg) penalty 0.998782994733\n",
      "Edge <edge 99> intersects with edge <edge 123>: angle 81.271298921 (deg) penalty 0.555176908071\n",
      "Edge <edge 103> intersects with edge <edge 104>: angle 65.099122054 (deg) penalty 0.842682274595\n",
      "Edge <edge 103> intersects with edge <edge 123>: angle 67.0180388953 (deg) penalty 0.808568197417\n",
      "Edge <edge 104> intersects with edge <edge 122>: angle 72.8356814254 (deg) penalty 0.705143441326\n",
      "Edge <edge 106> intersects with edge <edge 118>: angle 81.8836726909 (deg) penalty 0.544290263273\n",
      "Edge <edge 107> intersects with edge <edge 109>: angle 31.458074521 (deg) penalty 1.44074534185\n",
      "Edge <edge 107> intersects with edge <edge 118>: angle 81.6195886746 (deg) penalty 0.548985090229\n",
      "Edge <edge 110> intersects with edge <edge 114>: angle 6.77025532596 (deg) penalty 1.87963990532\n",
      "Edge <edge 111> intersects with edge <edge 114>: angle 10.2543647268 (deg) penalty 1.81770018264\n",
      "Edge <edge 111> intersects with edge <edge 116>: angle 5.11608442952 (deg) penalty 1.90904738792\n",
      "(84.78283091697433, 85)\n"
     ]
    }
   ],
   "source": [
    "print metrics.getGraphEdgeEdgePenalty()"
   ]
  },
  {
   "cell_type": "code",
   "execution_count": null,
   "metadata": {},
   "outputs": [],
   "source": []
  }
 ],
 "metadata": {
  "kernelspec": {
   "display_name": "Python 2",
   "language": "python",
   "name": "python2"
  },
  "language_info": {
   "codemirror_mode": {
    "name": "ipython",
    "version": 2
   },
   "file_extension": ".py",
   "mimetype": "text/x-python",
   "name": "python",
   "nbconvert_exporter": "python",
   "pygments_lexer": "ipython2",
   "version": "2.7.15"
  }
 },
 "nbformat": 4,
 "nbformat_minor": 2
}
