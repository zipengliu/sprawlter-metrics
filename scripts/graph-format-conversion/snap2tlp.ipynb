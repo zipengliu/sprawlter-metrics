{
 "cells": [
  {
   "cell_type": "code",
   "execution_count": 1,
   "metadata": {
    "ExecuteTime": {
     "end_time": "2019-01-20T05:49:34.605520Z",
     "start_time": "2019-01-20T05:49:33.028092Z"
    },
    "collapsed": true
   },
   "outputs": [],
   "source": [
    "from tulip import tlp"
   ]
  },
  {
   "cell_type": "code",
   "execution_count": 8,
   "metadata": {
    "ExecuteTime": {
     "end_time": "2019-01-20T06:08:45.129015Z",
     "start_time": "2019-01-20T06:08:45.122986Z"
    },
    "collapsed": true
   },
   "outputs": [],
   "source": [
    "graph = tlp.newGraph()\n",
    "node_mapping = {}"
   ]
  },
  {
   "cell_type": "code",
   "execution_count": 9,
   "metadata": {
    "ExecuteTime": {
     "end_time": "2019-01-20T06:08:45.475984Z",
     "start_time": "2019-01-20T06:08:45.272954Z"
    }
   },
   "outputs": [],
   "source": [
    "with open('../../../data/email-eu-core/email-Eu-core.txt') as snapfile:\n",
    "    for line in snapfile:\n",
    "        ids = [int(x) for x in line.strip().split(' ')]\n",
    "        if ids[0] not in node_mapping:\n",
    "            node_mapping[ids[0]] = graph.addNode()\n",
    "        if ids[1] not in node_mapping:\n",
    "            node_mapping[ids[1]] = graph.addNode()\n",
    "        graph.addEdge(node_mapping[ids[0]], node_mapping[ids[1]])"
   ]
  },
  {
   "cell_type": "code",
   "execution_count": 11,
   "metadata": {
    "ExecuteTime": {
     "end_time": "2019-01-20T06:09:05.821600Z",
     "start_time": "2019-01-20T06:09:05.809952Z"
    }
   },
   "outputs": [
    {
     "data": {
      "text/plain": [
       "(1005, 25571)"
      ]
     },
     "execution_count": 11,
     "metadata": {},
     "output_type": "execute_result"
    }
   ],
   "source": [
    "graph.numberOfNodes(), graph.numberOfEdges()"
   ]
  },
  {
   "cell_type": "code",
   "execution_count": 12,
   "metadata": {
    "ExecuteTime": {
     "end_time": "2019-01-20T06:09:54.249045Z",
     "start_time": "2019-01-20T06:09:53.930641Z"
    }
   },
   "outputs": [
    {
     "data": {
      "text/plain": [
       "True"
      ]
     },
     "execution_count": 12,
     "metadata": {},
     "output_type": "execute_result"
    }
   ],
   "source": [
    "tlp.saveGraph(graph, '../../../data/email-eu-core/email-Eu-core-no-pos.tlp')"
   ]
  },
  {
   "cell_type": "code",
   "execution_count": null,
   "metadata": {
    "collapsed": true
   },
   "outputs": [],
   "source": []
  }
 ],
 "metadata": {
  "kernelspec": {
   "display_name": "Python 3",
   "language": "python",
   "name": "python3"
  },
  "language_info": {
   "codemirror_mode": {
    "name": "ipython",
    "version": 3
   },
   "file_extension": ".py",
   "mimetype": "text/x-python",
   "name": "python",
   "nbconvert_exporter": "python",
   "pygments_lexer": "ipython3",
   "version": "3.6.3"
  }
 },
 "nbformat": 4,
 "nbformat_minor": 2
}
