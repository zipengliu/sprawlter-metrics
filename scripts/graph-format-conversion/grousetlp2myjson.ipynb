{
 "cells": [
  {
   "cell_type": "markdown",
   "metadata": {},
   "source": [
    "### Convert the tlp file output by GrouseFlocks to MyJSON \n",
    "* Observing that all of the tlp files are at most two level, this script only deals with two level\n",
    "* We treat each open metanode as a \"true metanode\" that has underlying leaf nodes, but the closed metanode does not have underlying leaf nodes.  They are both in the data structure \"metanodes\""
   ]
  },
  {
   "cell_type": "code",
   "execution_count": 1,
   "metadata": {
    "ExecuteTime": {
     "end_time": "2019-01-22T23:28:12.196464Z",
     "start_time": "2019-01-22T23:28:09.417315Z"
    }
   },
   "outputs": [],
   "source": [
    "from tulip import tlp\n",
    "from shapely.geometry import *\n",
    "import os\n",
    "import math\n",
    "import json\n",
    "SQUARE_ROOT_2 = math.sqrt(2)"
   ]
  },
  {
   "cell_type": "code",
   "execution_count": 2,
   "metadata": {
    "ExecuteTime": {
     "end_time": "2019-01-22T23:28:12.232829Z",
     "start_time": "2019-01-22T23:28:12.202412Z"
    },
    "collapsed": true
   },
   "outputs": [],
   "source": [
    "DATA_DIR = '../../../data/real-world-compiled/snap-main-comp/'\n",
    "grousetlp_filepath = os.path.join(DATA_DIR, 'snap-email-eu-core-main-comp-grouseflocks-open-6.tlp')\n",
    "myjson_filepath = os.path.join(DATA_DIR, 'snap-email-eu-core-main-comp-grouseflocks-open-6.json')"
   ]
  },
  {
   "cell_type": "code",
   "execution_count": 3,
   "metadata": {
    "ExecuteTime": {
     "end_time": "2019-01-22T23:28:13.166659Z",
     "start_time": "2019-01-22T23:28:12.237338Z"
    }
   },
   "outputs": [],
   "source": [
    "graph = tlp.loadGraph(grousetlp_filepath)\n",
    "hierarchy_subgraphs = graph.getSubGraph('1__HierarchySubGraphs')\n",
    "hierarchy_unnamed = hierarchy_subgraphs.getSubGraph('unnamed')\n",
    "final_layout = graph.getSubGraph('1__Final Layout Display')\n",
    "assert(hierarchy_subgraphs is not None)\n",
    "assert(hierarchy_unnamed)\n",
    "assert(final_layout is not None)"
   ]
  },
  {
   "cell_type": "code",
   "execution_count": 4,
   "metadata": {
    "ExecuteTime": {
     "end_time": "2019-01-22T23:28:13.215936Z",
     "start_time": "2019-01-22T23:28:13.174681Z"
    },
    "collapsed": true
   },
   "outputs": [],
   "source": [
    "metanodes = {}\n",
    "leaf_nodes = []\n",
    "edges = []\n",
    "root = graph.getId()"
   ]
  },
  {
   "cell_type": "code",
   "execution_count": 5,
   "metadata": {
    "ExecuteTime": {
     "end_time": "2019-01-22T23:28:13.491651Z",
     "start_time": "2019-01-22T23:28:13.222672Z"
    }
   },
   "outputs": [
    {
     "name": "stdout",
     "output_type": "stream",
     "text": [
      "open metanode:  994 <graph \"Contracted 6\" (id 216) >\n",
      "open metanode:  1000 <graph \"Contracted 12\" (id 222) >\n",
      "open metanode:  1048 <graph \"Contracted 60\" (id 270) >\n",
      "open metanode:  1132 <graph \"Contracted 144\" (id 354) >\n",
      "open metanode:  1173 <graph \"Contracted 185\" (id 395) >\n",
      "open metanode:  1176 <graph \"Contracted 188\" (id 398) >\n",
      "200\n"
     ]
    }
   ],
   "source": [
    "# Find the coodinates and sizes for all metanodes (both open and closed)\n",
    "sub_view_layout = hierarchy_unnamed.getLayoutProperty('viewLayout')\n",
    "sub_view_size = hierarchy_unnamed.getSizeProperty('viewSize')\n",
    "view_hier_attr = hierarchy_unnamed.getIntegerProperty('view Hier Node to Display')\n",
    "view_meta_graph = graph.getGraphProperty('viewMetaGraph')\n",
    "parents = {}\n",
    "\n",
    "for n in hierarchy_unnamed.getNodes():\n",
    "    center_coor = sub_view_layout[n]\n",
    "    # Use the diagonal of a bounding square as the diameter of bounding circle\n",
    "    diameter = sub_view_size[n][0] * SQUARE_ROOT_2\n",
    "    # print(n.id, center_coor, square_diagonal)\n",
    "    metanodes[n.id] = {\n",
    "        'id': n.id,   # Use the node id instead of the subgraph graph id for metanode.  be consistant\n",
    "        'parent_metanode': root,\n",
    "        'desc_metanodes': {},\n",
    "        'level': 2,\n",
    "        'leaf_nodes': {},\n",
    "        'diameter': diameter,\n",
    "        'geometry': Point(center_coor.x(), center_coor.y()).buffer(diameter / 2.0, cap_style=CAP_STYLE.round)\n",
    "    }\n",
    "    if view_hier_attr[n] == -1:\n",
    "        # indicate this is an open metanode\n",
    "        print('open metanode: ', n.id, view_meta_graph[n])\n",
    "        for leaf in view_meta_graph[n].getNodes():\n",
    "            metanodes[n.id]['leaf_nodes'][leaf.id] = True\n",
    "            parents[leaf.id] = n.id\n",
    "        \n",
    "print(len(metanodes))\n",
    "# print(metanodes.keys())"
   ]
  },
  {
   "cell_type": "code",
   "execution_count": 6,
   "metadata": {
    "ExecuteTime": {
     "end_time": "2019-01-22T23:28:13.636708Z",
     "start_time": "2019-01-22T23:28:13.499780Z"
    },
    "scrolled": true
   },
   "outputs": [
    {
     "name": "stdout",
     "output_type": "stream",
     "text": [
      "leaf:  8\n",
      "leaf:  9\n",
      "leaf:  15\n",
      "leaf:  82\n",
      "leaf:  141\n",
      "leaf:  163\n",
      "leaf:  216\n",
      "leaf:  233\n",
      "leaf:  239\n",
      "leaf:  288\n",
      "leaf:  334\n",
      "leaf:  335\n",
      "leaf:  405\n",
      "leaf:  414\n",
      "leaf:  415\n",
      "leaf:  432\n",
      "leaf:  449\n",
      "leaf:  456\n",
      "leaf:  543\n",
      "leaf:  567\n",
      "leaf:  579\n",
      "leaf:  602\n",
      "leaf:  604\n",
      "leaf:  635\n",
      "leaf:  639\n",
      "leaf:  667\n",
      "leaf:  679\n",
      "leaf:  680\n",
      "leaf:  687\n",
      "leaf:  725\n",
      "leaf:  740\n",
      "leaf:  744\n",
      "leaf:  756\n",
      "leaf:  777\n",
      "leaf:  779\n",
      "leaf:  798\n",
      "leaf:  802\n",
      "leaf:  804\n",
      "leaf:  827\n",
      "leaf:  834\n",
      "leaf:  897\n",
      "leaf:  927\n",
      "leaf:  932\n",
      "leaf:  938\n",
      "44\n"
     ]
    }
   ],
   "source": [
    "# Find out all leaf nodes\n",
    "view_hier_attr = final_layout.getIntegerProperty('view Hier Node to Display')\n",
    "sub_view_layout = final_layout.getLayoutProperty('viewLayout')\n",
    "sub_view_size = final_layout.getSizeProperty('viewSize')\n",
    "\n",
    "for n in final_layout.getNodes():\n",
    "    center_coor = sub_view_layout[n]\n",
    "    width = sub_view_size[n][0]\n",
    "    # print(n.id, center_coor, diameter)\n",
    "    if view_hier_attr[n] != -1:\n",
    "        # leaf nodes\n",
    "        print('leaf: ', n.id)\n",
    "        # Leaf node is only possible when a metanode is open\n",
    "        assert(n.id in parents)      \n",
    "        leaf_nodes.append({\n",
    "            'id': n.id,\n",
    "            'parent_metanode': parents[n.id], \n",
    "            'geometry': Point(center_coor.x(), center_coor.y()).buffer(width / 2.0, cap_style=CAP_STYLE.square),\n",
    "            'diameter': width * SQUARE_ROOT_2,\n",
    "        })       \n",
    "print(len(leaf_nodes))"
   ]
  },
  {
   "cell_type": "code",
   "execution_count": 7,
   "metadata": {
    "ExecuteTime": {
     "end_time": "2019-01-22T23:28:13.908446Z",
     "start_time": "2019-01-22T23:28:13.652738Z"
    }
   },
   "outputs": [
    {
     "name": "stdout",
     "output_type": "stream",
     "text": [
      "7991\n"
     ]
    }
   ],
   "source": [
    "view_layout = final_layout.getLayoutProperty('viewLayout')\n",
    "\n",
    "for e in final_layout.getEdges():\n",
    "    src, tgt = graph.ends(e)\n",
    "    if src.id > tgt.id:\n",
    "        tmp = src\n",
    "        src = tgt\n",
    "        tgt = tmp\n",
    "    edge_id = '{}-{}'.format(src.id, tgt.id)\n",
    "    # print(edge_id, view_layout[src], view_layout[tgt])\n",
    "    edges.append({\n",
    "        'id': edge_id,\n",
    "        'ends': (src.id, tgt.id),\n",
    "        'geometry': LineString([(view_layout[src].x(), view_layout[src].y()),\n",
    "                                (view_layout[tgt].x(), view_layout[tgt].y())])\n",
    "    })\n",
    "print(len(edges))"
   ]
  },
  {
   "cell_type": "code",
   "execution_count": 8,
   "metadata": {
    "ExecuteTime": {
     "end_time": "2019-01-22T23:28:13.917986Z",
     "start_time": "2019-01-22T23:28:13.911637Z"
    },
    "collapsed": true
   },
   "outputs": [],
   "source": [
    "bbox = tlp.computeBoundingBox(final_layout)"
   ]
  },
  {
   "cell_type": "code",
   "execution_count": 9,
   "metadata": {
    "ExecuteTime": {
     "end_time": "2019-01-22T23:28:14.315779Z",
     "start_time": "2019-01-22T23:28:13.921697Z"
    }
   },
   "outputs": [],
   "source": [
    "# Use the mapping function from shapely to serialize the geometry objects\n",
    "for n in leaf_nodes:\n",
    "    n['geometry'] = mapping(n['geometry'])\n",
    "for e in edges:\n",
    "    e['geometry'] = mapping(e['geometry'])\n",
    "for _, n in metanodes.items():\n",
    "    n['geometry'] = mapping(n['geometry'])\n",
    "\n",
    "json_data = {\n",
    "    'leaf_nodes': leaf_nodes,\n",
    "    'edges': edges,\n",
    "    'height': 2 if len(leaf_nodes) > 0 else 1,\n",
    "    'root': root,\n",
    "    'metanodes': metanodes,\n",
    "    'bounding_box': [[bbox[0].x(), bbox[0].y()], [bbox[1].x(), bbox[1].y()]]\n",
    "}"
   ]
  },
  {
   "cell_type": "code",
   "execution_count": 10,
   "metadata": {
    "ExecuteTime": {
     "end_time": "2019-01-22T23:28:15.101319Z",
     "start_time": "2019-01-22T23:28:14.324102Z"
    }
   },
   "outputs": [
    {
     "name": "stdout",
     "output_type": "stream",
     "text": [
      "Converted to  ../../../data/real-world-compiled/snap-main-comp/snap-email-eu-core-main-comp-grouseflocks-open-6.json  #nodes: 44  #edges:  7991 #metanodes: 200  height:  2\n"
     ]
    }
   ],
   "source": [
    "json.dump(json_data, open(myjson_filepath, 'w'), indent=2)\n",
    "print('Converted to ', myjson_filepath, ' #nodes:', len(leaf_nodes), ' #edges: ', len(edges), \n",
    "      '#metanodes:', len(metanodes),\n",
    "      ' height: ', json_data['height'])"
   ]
  }
 ],
 "metadata": {
  "kernelspec": {
   "display_name": "Python 3",
   "language": "python",
   "name": "python3"
  },
  "language_info": {
   "codemirror_mode": {
    "name": "ipython",
    "version": 3
   },
   "file_extension": ".py",
   "mimetype": "text/x-python",
   "name": "python",
   "nbconvert_exporter": "python",
   "pygments_lexer": "ipython3",
   "version": "3.6.3"
  }
 },
 "nbformat": 4,
 "nbformat_minor": 2
}
