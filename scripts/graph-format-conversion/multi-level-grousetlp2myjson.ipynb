{
 "cells": [
  {
   "cell_type": "markdown",
   "metadata": {},
   "source": [
    "### Convert the tlp file output by GrouseFlocks to MyJSON \n",
    "* Observing that all of the tlp files are at most two level, this script only deals with two level\n",
    "* We treat each open metanode as a \"true metanode\" that has underlying leaf nodes, but the closed metanode does not have underlying leaf nodes.  They are both in the data structure \"metanodes\"\n",
    "* This script only works for the datasets \"ivOrigins\" and \"moviedb\", which seems different than other datasets that are not using the TopoLayout"
   ]
  },
  {
   "cell_type": "code",
   "execution_count": 17,
   "metadata": {
    "ExecuteTime": {
     "end_time": "2019-01-30T05:02:40.732605Z",
     "start_time": "2019-01-30T05:02:40.720721Z"
    }
   },
   "outputs": [],
   "source": [
    "from tulip import tlp\n",
    "from shapely.geometry import *\n",
    "from tlp2myjson import chop_segment\n",
    "import os\n",
    "import math\n",
    "import json\n",
    "SQUARE_ROOT_2 = math.sqrt(2)\n",
    "from pprint import pprint"
   ]
  },
  {
   "cell_type": "code",
   "execution_count": 18,
   "metadata": {
    "ExecuteTime": {
     "end_time": "2019-01-30T05:02:40.747983Z",
     "start_time": "2019-01-30T05:02:40.736754Z"
    },
    "collapsed": true
   },
   "outputs": [],
   "source": [
    "DATA_DIR = '../../../data/real-world-compiled/grouseflocks/'\n",
    "FILENAME = 'grouseflocks-moviedb-rateonly-grouseflocks-2'\n",
    "grousetlp_filepath = os.path.join(DATA_DIR, FILENAME + '.tlp')\n",
    "myjson_filepath = os.path.join(DATA_DIR, FILENAME + '.json')"
   ]
  },
  {
   "cell_type": "code",
   "execution_count": 19,
   "metadata": {
    "ExecuteTime": {
     "end_time": "2019-01-30T05:03:01.072328Z",
     "start_time": "2019-01-30T05:02:40.754905Z"
    }
   },
   "outputs": [],
   "source": [
    "# Load graph and get the useful subgraphs\n",
    "graph = tlp.loadGraph(grousetlp_filepath)\n",
    "assert(graph is not None)\n",
    "hierarchy_subgraphs = graph.getSubGraph('1__HierarchySubGraphs')\n",
    "final_layout_display = graph.getSubGraph('1__Final Layout Display')\n",
    "final_layout = graph.getSubGraph('1__Final Layout')\n",
    "assert(hierarchy_subgraphs is not None)\n",
    "assert(final_layout_display is not None)\n",
    "assert(final_layout is not None)"
   ]
  },
  {
   "cell_type": "code",
   "execution_count": 20,
   "metadata": {
    "ExecuteTime": {
     "end_time": "2019-01-30T05:03:01.085935Z",
     "start_time": "2019-01-30T05:03:01.075222Z"
    },
    "collapsed": true
   },
   "outputs": [],
   "source": [
    "# Initialize the output data structures\n",
    "metanodes = {}\n",
    "leaf_nodes = []\n",
    "edges = []\n",
    "root = final_layout.getId()\n",
    "max_height = 1"
   ]
  },
  {
   "cell_type": "code",
   "execution_count": 21,
   "metadata": {
    "ExecuteTime": {
     "end_time": "2019-01-30T05:03:01.107546Z",
     "start_time": "2019-01-30T05:03:01.090789Z"
    }
   },
   "outputs": [
    {
     "name": "stdout",
     "output_type": "stream",
     "text": [
      "{'': <node 479>, 'Tree 577: n 9338 e 130669 (Hier: n 69 e 68)': <node 21278>, 'Near Complete 0: n 3 e 3 (Hier: n 3 e 3)': <node 21279>, 'Near Complete 1: n 2 e 1 (Hier: n 3 e 3)': <node 21280>, 'Near Complete 2: n 2 e 1 (Hier: n 3 e 3)': <node 21281>, 'Unknown 5: n 9 e 31 (Hier: n 10 e 34)': <node 21282>, 'Near Complete 3: n 2 e 1 (Hier: n 3 e 3)': <node 21283>, 'Near Complete 4: n 2 e 1 (Hier: n 3 e 3)': <node 21284>, 'Near Complete 5: n 2 e 1 (Hier: n 3 e 3)': <node 21285>, 'Near Complete 6: n 2 e 1 (Hier: n 3 e 3)': <node 21286>, 'Near Complete 7: n 2 e 1 (Hier: n 3 e 3)': <node 21287>, 'Unknown 11: n 5 e 7 (Hier: n 6 e 12)': <node 21289>, 'Near Complete 8: n 3 e 3 (Hier: n 4 e 6)': <node 21290>, 'Near Complete 9: n 3 e 3 (Hier: n 3 e 3)': <node 21291>, 'Near Complete 10: n 2 e 1 (Hier: n 3 e 3)': <node 21292>, 'Near Complete 11: n 4 e 6 (Hier: n 5 e 10)': <node 21293>, 'Unknown 16: n 6 e 9 (Hier: n 6 e 12)': <node 21295>, 'Near Complete 12: n 2 e 1 (Hier: n 3 e 3)': <node 21296>, 'Near Complete 18: n 2 e 1 (Hier: n 3 e 3)': <node 15574>, 'Near Complete 13: n 3 e 2 (Hier: n 3 e 3)': <node 21298>, 'Near Complete 19: n 2 e 1 (Hier: n 3 e 3)': <node 15575>, 'Near Complete 14: n 2 e 1 (Hier: n 3 e 3)': <node 21299>, 'Near Complete 20: n 2 e 1 (Hier: n 3 e 3)': <node 15576>, 'Near Complete 15: n 2 e 1 (Hier: n 3 e 3)': <node 21300>, 'Near Complete 21: n 2 e 1 (Hier: n 3 e 3)': <node 15577>, 'Near Complete 16: n 2 e 1 (Hier: n 3 e 3)': <node 21301>, 'Near Complete 17: n 2 e 1 (Hier: n 3 e 3)': <node 21302>, 'Near Complete 22: n 3 e 2 (Hier: n 3 e 3)': <node 15579>, 'Near Complete 23: n 2 e 1 (Hier: n 3 e 3)': <node 15580>, 'Near Complete 24: n 2 e 1 (Hier: n 3 e 3)': <node 15581>, 'Near Complete 25: n 5 e 7 (Hier: n 4 e 6)': <node 15583>, 'Near Complete 26: n 2 e 1 (Hier: n 3 e 3)': <node 15584>, 'Near Complete 27: n 2 e 1 (Hier: n 3 e 3)': <node 15585>, 'Near Complete 28: n 3 e 2 (Hier: n 3 e 3)': <node 15587>, 'Near Complete 29: n 2 e 1 (Hier: n 3 e 3)': <node 15588>, 'Near Complete 30: n 4 e 4 (Hier: n 4 e 6)': <node 15590>, 'Near Complete 31: n 2 e 1 (Hier: n 3 e 3)': <node 15591>, 'Near Complete 32: n 4 e 4 (Hier: n 3 e 3)': <node 15593>, 'Tree 46: n 2 e 1 (Hier: n 2 e 1)': <node 15594>, 'Tree 61: n 3 e 2 (Hier: n 3 e 2)': <node 15595>}\n"
     ]
    }
   ],
   "source": [
    "label2node = {}\n",
    "view_label = final_layout_display.getStringProperty('viewLabel')\n",
    "\n",
    "for n in final_layout_display.getNodes():\n",
    "    label2node[view_label[n]] = n\n",
    "len(label2node)\n",
    "print(label2node)"
   ]
  },
  {
   "cell_type": "code",
   "execution_count": 22,
   "metadata": {
    "ExecuteTime": {
     "end_time": "2019-01-30T05:03:01.177508Z",
     "start_time": "2019-01-30T05:03:01.112270Z"
    }
   },
   "outputs": [
    {
     "name": "stdout",
     "output_type": "stream",
     "text": [
      "40 dict_keys([3, 4, 5687, 5688, 5689, 5690, 5691, 5692, 5693, 5694, 5695, 5696, 5698, 5699, 5700, 5701, 5702, 5704, 5705, 5707, 5708, 5709, 5710, 5711, 5712, 5713, 5714, 5715, 5717, 5718, 5719, 5721, 5722, 5723, 5725, 5726, 5728, 5729, 5730, 5732])\n"
     ]
    }
   ],
   "source": [
    "# Determine the node hierarchy in \"1__Final Layout\".\n",
    "# Although we can find all subgraphs (and its leaf nodes) in \"1__HierarchySubGraphs\", \n",
    "# it's only a flat list of metanodes even if there are multiple levels in the hierarchy.\n",
    "# Such a misleading name!\n",
    "\n",
    "def dfs(current_graph, depth):    \n",
    "    # find out if the current graph is displayed, aka, present in \"1__Final Layout Display\"\n",
    "    if current_graph.getName() not in label2node:\n",
    "        # keep traversing down because this metanode is open\n",
    "        for g in current_graph.getSubGraphs():\n",
    "            # record this metanode\n",
    "            metanodes[g.getId()] = {\n",
    "                'id': g.getId(),\n",
    "                'label': g.getName(),\n",
    "                'parent_metanode': current_graph.getId(),\n",
    "                'desc_metanodes': {},  \n",
    "                'level': depth + 1,\n",
    "                'leaf_nodes': {},        # since we don't need it now, let's leave it blank.  \n",
    "                'diameter': 0,      \n",
    "                'geometry': None,  # TODO how to find out geometry for open metanodes (the loose bounding circle)?\n",
    "            }\n",
    "            \n",
    "            dfs(g, depth + 1)\n",
    "            \n",
    "        # Fill in the \"desc_metanodes\" in post order\n",
    "        if current_graph.getId() in metanodes:\n",
    "            t = metanodes[current_graph.getId()]\n",
    "            for g in current_graph.getSubGraphs():\n",
    "                # the subgraph itself\n",
    "                t['desc_metanodes'][g.getId()] = True\n",
    "                # and its descendants\n",
    "                dict.update(t['desc_metanodes'], metanodes[g.getId()]['desc_metanodes'])\n",
    "                \n",
    "dfs(final_layout, 0)\n",
    "print(len(metanodes), metanodes.keys())\n",
    "# pprint(metanodes)"
   ]
  },
  {
   "cell_type": "code",
   "execution_count": 23,
   "metadata": {
    "ExecuteTime": {
     "end_time": "2019-01-30T05:03:01.194097Z",
     "start_time": "2019-01-30T05:03:01.181900Z"
    }
   },
   "outputs": [],
   "source": [
    "# A mapping between label w metanode id in our data structure \"metanodes\" is needed\n",
    "#   because there are mulitple IDs (at least 3 cluster ids and 1 node id) associated with a metanode \n",
    "#   in the original tlp files.  \n",
    "#   We want to make sure we are linking the elements correctly by using a single ID.\n",
    "#   The label seems to be unique and consistent across different representations in the original tlp file.\n",
    "label2metanode = {}\n",
    "for nid, m in metanodes.items():\n",
    "    label2metanode[m['label']] = nid"
   ]
  },
  {
   "cell_type": "code",
   "execution_count": 24,
   "metadata": {
    "ExecuteTime": {
     "end_time": "2019-01-30T05:03:01.319202Z",
     "start_time": "2019-01-30T05:03:01.198350Z"
    }
   },
   "outputs": [
    {
     "name": "stdout",
     "output_type": "stream",
     "text": [
      "leaf:  4561\n",
      "leaf:  682\n",
      "leaf:  3689\n",
      "leaf:  9222\n",
      "leaf:  3112\n",
      "leaf:  4374\n",
      "leaf:  3114\n",
      "leaf:  4569\n",
      "leaf:  3891\n",
      "leaf:  7966\n",
      "leaf:  604\n",
      "leaf:  5069\n",
      "leaf:  6051\n",
      "leaf:  6342\n",
      "leaf:  3433\n",
      "leaf:  7994\n",
      "leaf:  5477\n",
      "leaf:  2279\n",
      "leaf:  8300\n",
      "leaf:  443\n",
      "leaf:  5395\n",
      "leaf:  1909\n",
      "leaf:  9379\n",
      "leaf:  6372\n",
      "leaf:  846\n",
      "leaf:  8706\n",
      "leaf:  9098\n",
      "leaf:  274\n",
      "leaf:  2215\n",
      "leaf:  3671\n",
      "leaf:  479\n",
      "31\n"
     ]
    }
   ],
   "source": [
    "# Find out all leaf nodes\n",
    "view_hier_attr = final_layout_display.getIntegerProperty('view Hier Node to Display')\n",
    "sub_view_layout = final_layout_display.getLayoutProperty('viewLayout')\n",
    "sub_view_size = final_layout_display.getSizeProperty('viewSize')\n",
    "node_in_graph = final_layout_display.getGraphProperty('Node In Graph')\n",
    "view_label = final_layout_display.getStringProperty('viewLabel')\n",
    "\n",
    "for n in final_layout_display.getNodes():\n",
    "    center_coor = sub_view_layout[n]\n",
    "    width = sub_view_size[n][0]\n",
    "    # print(n.id, center_coor, diameter)\n",
    "    if view_hier_attr[n] != -1:\n",
    "        # leaf nodes\n",
    "        print('leaf: ', n.id)\n",
    "        parent_metanode_id = None\n",
    "        if node_in_graph[n] is not None:\n",
    "            # Leaf node is an open metanode\n",
    "            parent_metanode_id = label2metanode[node_in_graph[n].getName()]\n",
    "        else:\n",
    "            # leaf node not in an open metanode, this is odd but it happens in ivOrigins\n",
    "            # but when it happens, the parent_metanode is always the root\n",
    "            parent_metanode_id = root\n",
    "        leaf_nodes.append({\n",
    "            'id': n.id,\n",
    "            'parent_metanode': parent_metanode_id, \n",
    "            'geometry': Point(center_coor.x(), center_coor.y()).buffer(width / 2.0, cap_style=CAP_STYLE.square),\n",
    "            'diameter': width * SQUARE_ROOT_2,\n",
    "        })       \n",
    "    else:\n",
    "        # closed metanode.  Note that they are already recorded in \"metanodes\"\n",
    "        metanode_id = label2metanode[view_label[n]]\n",
    "        dict.update(metanodes[metanode_id], {\n",
    "            'geometry': Point(center_coor.x(), center_coor.y()).buffer(width / 2.0, cap_style=CAP_STYLE.round),\n",
    "            'diatmeter': width\n",
    "        })\n",
    "print(len(leaf_nodes))"
   ]
  },
  {
   "cell_type": "code",
   "execution_count": 25,
   "metadata": {
    "ExecuteTime": {
     "end_time": "2019-01-30T05:03:01.329591Z",
     "start_time": "2019-01-30T05:03:01.323471Z"
    },
    "collapsed": true
   },
   "outputs": [],
   "source": [
    "leaf_nodes_mapping = {}\n",
    "for n in leaf_nodes:\n",
    "    leaf_nodes_mapping[n['id']] = n"
   ]
  },
  {
   "cell_type": "code",
   "execution_count": 26,
   "metadata": {
    "ExecuteTime": {
     "end_time": "2019-01-30T05:03:01.350449Z",
     "start_time": "2019-01-30T05:03:01.333890Z"
    }
   },
   "outputs": [],
   "source": [
    "# this is for printing the labels and then determine the ids manually by looking at the figure at Tulip\n",
    "for nid, m in metanodes.items():\n",
    "    if m['geometry'] is None and m['parent_metanode'] != root:\n",
    "        # indicates this is an open metanode\n",
    "        p = metanodes[m['parent_metanode']]\n",
    "        print('dealing with: ', m['label'], 'parent:', p['label'])\n",
    "        "
   ]
  },
  {
   "cell_type": "code",
   "execution_count": 27,
   "metadata": {
    "ExecuteTime": {
     "end_time": "2019-01-30T05:03:01.369923Z",
     "start_time": "2019-01-30T05:03:01.354693Z"
    }
   },
   "outputs": [],
   "source": [
    "# Open metanode IDs for different datasets.  Fill in manually\n",
    "\n",
    "# ivOrigins-open-2\n",
    "# corr_node_ids = {\n",
    "#     'Tree 8: n 10 e 31 (Hier: n 2 e 1)': 126,\n",
    "#     'Unknown 13: n 9 e 29 (Hier: n 9 e 30)': 138,\n",
    "#     'Tree 10: n 32 e 201 (Hier: n 3 e 2)': 127,\n",
    "#     'Unknown 14: n 23 e 167 (Hier: n 24 e 203)': 139\n",
    "# }\n",
    "\n",
    "# ivOrigins-open-4\n",
    "corr_node_ids = {\n",
    "    'Tree 8: n 10 e 31 (Hier: n 2 e 1)': 126,\n",
    "    'Tree 10: n 32 e 201 (Hier: n 3 e 2)': 127,\n",
    "    'Tree 12: n 25 e 112 (Hier: n 3 e 2)': 129,\n",
    "    'Near Complete 3: n 8 e 17 (Hier: n 8 e 28)': 133\n",
    "}\n"
   ]
  },
  {
   "cell_type": "code",
   "execution_count": 28,
   "metadata": {
    "ExecuteTime": {
     "end_time": "2019-01-30T05:03:01.413191Z",
     "start_time": "2019-01-30T05:03:01.374621Z"
    }
   },
   "outputs": [],
   "source": [
    "# Find the layout info according to the manual defined IDs above\n",
    "for nid, m in metanodes.items():\n",
    "    if m['geometry'] is None and m['parent_metanode'] != root:\n",
    "        # indicates this is an open metanode\n",
    "        p = metanodes[m['parent_metanode']]\n",
    "        parent_subgraph = hierarchy_subgraphs.getSubGraph(p['label'])\n",
    "        assert(parent_subgraph is not None)\n",
    "        view_layout = parent_subgraph.getLayoutProperty('viewLayout')\n",
    "        view_size = parent_subgraph.getSizeProperty('viewSize')\n",
    "\n",
    "        # Find the corresponding node\n",
    "        which_node = None\n",
    "        for n in parent_subgraph.getNodes():\n",
    "            if n.id == corr_node_ids[m['label']]:\n",
    "                which_node = n\n",
    "                break\n",
    "        assert(which_node is not None)\n",
    "        \n",
    "        center_coor = view_layout[which_node]\n",
    "        diameter = view_size[which_node][0]\n",
    "        dict.update(m, {\n",
    "            'geometry': Point(center_coor.x(), center_coor.y()).buffer(width / 2.0, cap_style=CAP_STYLE.round),\n",
    "            'diatmeter': diameter\n",
    "        })\n",
    "        pprint(m)\n"
   ]
  },
  {
   "cell_type": "code",
   "execution_count": 29,
   "metadata": {
    "ExecuteTime": {
     "end_time": "2019-01-30T05:03:01.506488Z",
     "start_time": "2019-01-30T05:03:01.416658Z"
    }
   },
   "outputs": [
    {
     "name": "stdout",
     "output_type": "stream",
     "text": [
      "71\n"
     ]
    }
   ],
   "source": [
    "view_layout = final_layout_display.getLayoutProperty('viewLayout')\n",
    "view_hier_attr = final_layout_display.getIntegerProperty('view Hier Node to Display')\n",
    "view_label = final_layout_display.getStringProperty('viewLabel')\n",
    "\n",
    "for e in final_layout_display.getEdges():\n",
    "    src, tgt = graph.ends(e)\n",
    " \n",
    "    # Make sure this id is the id we are using for myjson since it uses a few different ids for the same metanode\n",
    "    if view_hier_attr[src] == -1:\n",
    "        src_id = label2metanode[view_label[src]]\n",
    "        src_geo = metanodes[src_id]['geometry']\n",
    "    else:\n",
    "        src_id = src.id\n",
    "        src_geo = leaf_nodes_mapping[src_id]['geometry']\n",
    "        \n",
    "    if view_hier_attr[tgt] == -1:\n",
    "        tgt_id = label2metanode[view_label[tgt]]\n",
    "        tgt_geo = metanodes[tgt_id]['geometry']\n",
    "    else:\n",
    "        tgt_id = tgt.id\n",
    "        tgt_geo = leaf_nodes_mapping[tgt_id]['geometry']\n",
    " \n",
    "    edge_id = '{}-{}'.format(src_id, tgt_id)   \n",
    "    edges.append({\n",
    "        'id': edge_id,\n",
    "        'ends': (src_id, tgt_id),\n",
    "        'geometry': chop_segment(src_geo, tgt_geo,\n",
    "                                 (view_layout[src].x(), view_layout[src].y()),\n",
    "                                 (view_layout[tgt].x(), view_layout[tgt].y()))\n",
    "    })\n",
    "print(len(edges))"
   ]
  },
  {
   "cell_type": "code",
   "execution_count": 30,
   "metadata": {
    "ExecuteTime": {
     "end_time": "2019-01-30T05:03:01.516449Z",
     "start_time": "2019-01-30T05:03:01.509931Z"
    },
    "collapsed": true
   },
   "outputs": [],
   "source": [
    "bbox = tlp.computeBoundingBox(final_layout_display)"
   ]
  },
  {
   "cell_type": "code",
   "execution_count": 31,
   "metadata": {
    "ExecuteTime": {
     "end_time": "2019-01-30T05:03:01.556832Z",
     "start_time": "2019-01-30T05:03:01.520163Z"
    }
   },
   "outputs": [],
   "source": [
    "# Use the mapping function from shapely to serialize the geometry objects\n",
    "for n in leaf_nodes:\n",
    "    n['geometry'] = mapping(n['geometry'])\n",
    "for e in edges:\n",
    "    e['geometry'] = mapping(e['geometry'])\n",
    "for _, n in metanodes.items():\n",
    "    if n['geometry'] is None:\n",
    "        # dirty fix: the root is not going to intersect with anyone so use a random point\n",
    "        n['geometry'] = Point(0,0)\n",
    "    n['geometry'] = mapping(n['geometry']) \n",
    "    if n['level'] > max_height:\n",
    "        max_height = n['level']\n",
    "\n",
    "json_data = {\n",
    "    'leaf_nodes': leaf_nodes,\n",
    "    'edges': edges,\n",
    "    'height': max_height,\n",
    "    'root': root,\n",
    "    'metanodes': metanodes,\n",
    "    'bounding_box': [[bbox[0].x(), bbox[0].y()], [bbox[1].x(), bbox[1].y()]]\n",
    "}"
   ]
  },
  {
   "cell_type": "code",
   "execution_count": 32,
   "metadata": {
    "ExecuteTime": {
     "end_time": "2019-01-30T05:03:01.626012Z",
     "start_time": "2019-01-30T05:03:01.560973Z"
    }
   },
   "outputs": [
    {
     "name": "stdout",
     "output_type": "stream",
     "text": [
      "Converted to  ../../../data/real-world-compiled/grouseflocks/grouseflocks-moviedb-rateonly-grouseflocks-2.json  #nodes: 31  #edges:  71 #metanodes: 40  height:  2\n"
     ]
    }
   ],
   "source": [
    "json.dump(json_data, open(myjson_filepath, 'w'), indent=2)\n",
    "print('Converted to ', myjson_filepath, ' #nodes:', len(leaf_nodes), ' #edges: ', len(edges), \n",
    "      '#metanodes:', len(metanodes),\n",
    "      ' height: ', json_data['height'])"
   ]
  },
  {
   "cell_type": "code",
   "execution_count": null,
   "metadata": {
    "collapsed": true
   },
   "outputs": [],
   "source": []
  }
 ],
 "metadata": {
  "kernelspec": {
   "display_name": "Python 3",
   "language": "python",
   "name": "python3"
  },
  "language_info": {
   "codemirror_mode": {
    "name": "ipython",
    "version": 3
   },
   "file_extension": ".py",
   "mimetype": "text/x-python",
   "name": "python",
   "nbconvert_exporter": "python",
   "pygments_lexer": "ipython3",
   "version": "3.6.3"
  }
 },
 "nbformat": 4,
 "nbformat_minor": 2
}
