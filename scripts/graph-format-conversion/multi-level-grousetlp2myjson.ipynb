{
 "cells": [
  {
   "cell_type": "markdown",
   "metadata": {},
   "source": [
    "### Convert the tlp file output by GrouseFlocks to MyJSON \n",
    "* Observing that all of the tlp files are at most two level, this script only deals with two level\n",
    "* We treat each open metanode as a \"true metanode\" that has underlying leaf nodes, but the closed metanode does not have underlying leaf nodes.  They are both in the data structure \"metanodes\"\n",
    "* This script only works for the datasets \"ivOrigins\" and \"moviedb\", which seems different than other datasets that are not using the TopoLayout"
   ]
  },
  {
   "cell_type": "code",
   "execution_count": 100,
   "metadata": {
    "ExecuteTime": {
     "end_time": "2019-01-24T02:48:06.520902Z",
     "start_time": "2019-01-24T02:48:06.509536Z"
    },
    "collapsed": true
   },
   "outputs": [],
   "source": [
    "from tulip import tlp\n",
    "from shapely.geometry import *\n",
    "import os\n",
    "import math\n",
    "import json\n",
    "SQUARE_ROOT_2 = math.sqrt(2)\n",
    "from pprint import pprint"
   ]
  },
  {
   "cell_type": "code",
   "execution_count": 101,
   "metadata": {
    "ExecuteTime": {
     "end_time": "2019-01-24T02:48:06.535227Z",
     "start_time": "2019-01-24T02:48:06.525538Z"
    },
    "collapsed": true
   },
   "outputs": [],
   "source": [
    "DATA_DIR = '../../../data/real-world-compiled/grouseflocks/'\n",
    "FILENAME = 'grouseflocks-ivOrigins-grouseflocks-open-2'\n",
    "grousetlp_filepath = os.path.join(DATA_DIR, FILENAME + '.tlp')\n",
    "myjson_filepath = os.path.join(DATA_DIR, FILENAME + '.json')"
   ]
  },
  {
   "cell_type": "code",
   "execution_count": 102,
   "metadata": {
    "ExecuteTime": {
     "end_time": "2019-01-24T02:48:06.583113Z",
     "start_time": "2019-01-24T02:48:06.539642Z"
    }
   },
   "outputs": [],
   "source": [
    "# Load graph and get the useful subgraphs\n",
    "graph = tlp.loadGraph(grousetlp_filepath)\n",
    "assert(graph is not None)\n",
    "hierarchy_subgraphs = graph.getSubGraph('1__HierarchySubGraphs')\n",
    "final_layout_display = graph.getSubGraph('1__Final Layout Display')\n",
    "final_layout = graph.getSubGraph('1__Final Layout')\n",
    "assert(hierarchy_subgraphs is not None)\n",
    "assert(final_layout_display is not None)\n",
    "assert(final_layout is not None)"
   ]
  },
  {
   "cell_type": "code",
   "execution_count": 103,
   "metadata": {
    "ExecuteTime": {
     "end_time": "2019-01-24T02:48:06.595996Z",
     "start_time": "2019-01-24T02:48:06.587239Z"
    },
    "collapsed": true
   },
   "outputs": [],
   "source": [
    "# Initialize the output data structures\n",
    "metanodes = {}\n",
    "leaf_nodes = []\n",
    "edges = []\n",
    "root = final_layout.getId()\n",
    "max_height = 1"
   ]
  },
  {
   "cell_type": "code",
   "execution_count": 104,
   "metadata": {
    "ExecuteTime": {
     "end_time": "2019-01-24T02:48:06.610601Z",
     "start_time": "2019-01-24T02:48:06.599796Z"
    }
   },
   "outputs": [
    {
     "name": "stdout",
     "output_type": "stream",
     "text": [
      "{'': <node 101>, 'Tree 7: n 1 e 0 (Hier: n 2 e 1)': <node 146>, 'Tree 0: n 2 e 1 (Hier: n 2 e 1)': <node 147>, 'Tree 6: n 2 e 1 (Hier: n 2 e 1)': <node 148>, 'Unknown 15: n 7 e 18 (Hier: n 8 e 24)': <node 149>, 'Tree 9: n 2 e 1 (Hier: n 2 e 1)': <node 150>, 'Near Complete 0: n 2 e 1 (Hier: n 3 e 3)': <node 151>, 'Tree 12: n 25 e 112 (Hier: n 3 e 2)': <node 158>, 'Unknown 5: n 6 e 15 (Hier: n 7 e 17)': <node 159>, 'Near Complete 1: n 2 e 1 (Hier: n 3 e 3)': <node 160>, 'Near Complete 2: n 3 e 3 (Hier: n 4 e 6)': <node 161>, 'Near Complete 3: n 8 e 17 (Hier: n 8 e 28)': <node 164>, 'Near Complete 4: n 2 e 1 (Hier: n 3 e 3)': <node 165>, 'Near Complete 5: n 2 e 1 (Hier: n 3 e 3)': <node 166>, 'Near Complete 6: n 3 e 3 (Hier: n 3 e 3)': <node 167>}\n"
     ]
    }
   ],
   "source": [
    "label2node = {}\n",
    "view_label = final_layout_display.getStringProperty('viewLabel')\n",
    "\n",
    "for n in final_layout_display.getNodes():\n",
    "    label2node[view_label[n]] = n\n",
    "len(label2node)\n",
    "print(label2node)"
   ]
  },
  {
   "cell_type": "code",
   "execution_count": 105,
   "metadata": {
    "ExecuteTime": {
     "end_time": "2019-01-24T02:48:06.702713Z",
     "start_time": "2019-01-24T02:48:06.617975Z"
    }
   },
   "outputs": [
    {
     "name": "stdout",
     "output_type": "stream",
     "text": [
      "19\n"
     ]
    }
   ],
   "source": [
    "# Determine the node hierarchy in \"1__Final Layout\".\n",
    "# Although we can find all subgraphs (and its leaf nodes) in \"1__HierarchySubGraphs\", \n",
    "# it's only a flat list of metanodes even if there are multiple levels in the hierarchy.\n",
    "# Such a misleading name!\n",
    "\n",
    "def dfs(current_graph, depth):    \n",
    "    # find out if the current graph is displayed, aka, present in \"1__Final Layout Display\"\n",
    "    if current_graph.getName() not in label2node:\n",
    "        # keep traversing down because this metanode is open\n",
    "        for g in current_graph.getSubGraphs():\n",
    "            # record this metanode\n",
    "            metanodes[g.getId()] = {\n",
    "                'id': g.getId(),\n",
    "                'label': g.getName(),\n",
    "                'parent_metanode': current_graph.getId(),\n",
    "                'desc_metanodes': {},  \n",
    "                'level': depth + 1,\n",
    "                'leaf_nodes': {},        # since we don't need it now, let's leave it blank.  \n",
    "                'diameter': 0,      \n",
    "                'geometry': None,  # TODO how to find out geometry for open metanodes (the loose bounding circle)?\n",
    "            }\n",
    "            \n",
    "            dfs(g, depth + 1)\n",
    "            \n",
    "        # Fill in the \"desc_metanodes\" in post order\n",
    "        if current_graph.getId() in metanodes:\n",
    "            t = metanodes[current_graph.getId()]\n",
    "            for g in current_graph.getSubGraphs():\n",
    "                # the subgraph itself\n",
    "                t['desc_metanodes'][g.getId()] = True\n",
    "                # and its descendants\n",
    "                dict.update(t['desc_metanodes'], metanodes[g.getId()]['desc_metanodes'])\n",
    "                \n",
    "dfs(final_layout, 0)\n",
    "print(len(metanodes))\n",
    "# pprint(metanodes)"
   ]
  },
  {
   "cell_type": "code",
   "execution_count": 106,
   "metadata": {
    "ExecuteTime": {
     "end_time": "2019-01-24T02:48:06.714236Z",
     "start_time": "2019-01-24T02:48:06.706058Z"
    }
   },
   "outputs": [],
   "source": [
    "# A mapping between label w metanode id in our data structure \"metanodes\" is needed\n",
    "#   because there are mulitple IDs (at least 3 cluster ids and 1 node id) associated with a metanode \n",
    "#   in the original tlp files.  \n",
    "#   We want to make sure we are linking the elements correctly by using a single ID.\n",
    "#   The label seems to be unique and consistent across different representations in the original tlp file.\n",
    "label2metanode = {}\n",
    "for nid, m in metanodes.items():\n",
    "    label2metanode[m['label']] = nid"
   ]
  },
  {
   "cell_type": "code",
   "execution_count": 107,
   "metadata": {
    "ExecuteTime": {
     "end_time": "2019-01-24T02:48:06.841860Z",
     "start_time": "2019-01-24T02:48:06.718556Z"
    }
   },
   "outputs": [
    {
     "name": "stdout",
     "output_type": "stream",
     "text": [
      "leaf:  1\n",
      "leaf:  2\n",
      "leaf:  6\n",
      "leaf:  11\n",
      "leaf:  13\n",
      "leaf:  17\n",
      "leaf:  19\n",
      "leaf:  22\n",
      "leaf:  23\n",
      "leaf:  25\n",
      "leaf:  26\n",
      "leaf:  30\n",
      "leaf:  31\n",
      "leaf:  32\n",
      "leaf:  33\n",
      "leaf:  36\n",
      "leaf:  37\n",
      "leaf:  42\n",
      "leaf:  43\n",
      "leaf:  44\n",
      "leaf:  49\n",
      "leaf:  55\n",
      "leaf:  57\n",
      "leaf:  59\n",
      "leaf:  60\n",
      "leaf:  62\n",
      "leaf:  71\n",
      "leaf:  73\n",
      "leaf:  76\n",
      "leaf:  80\n",
      "leaf:  82\n",
      "leaf:  87\n",
      "leaf:  89\n",
      "leaf:  92\n",
      "leaf:  94\n",
      "leaf:  101\n",
      "36\n"
     ]
    }
   ],
   "source": [
    "# Find out all leaf nodes\n",
    "view_hier_attr = final_layout_display.getIntegerProperty('view Hier Node to Display')\n",
    "sub_view_layout = final_layout_display.getLayoutProperty('viewLayout')\n",
    "sub_view_size = final_layout_display.getSizeProperty('viewSize')\n",
    "node_in_graph = final_layout_display.getGraphProperty('Node In Graph')\n",
    "view_label = final_layout_display.getStringProperty('viewLabel')\n",
    "\n",
    "for n in final_layout_display.getNodes():\n",
    "    center_coor = sub_view_layout[n]\n",
    "    width = sub_view_size[n][0]\n",
    "    # print(n.id, center_coor, diameter)\n",
    "    if view_hier_attr[n] != -1:\n",
    "        # leaf nodes\n",
    "        print('leaf: ', n.id)\n",
    "        parent_metanode_id = None\n",
    "        if node_in_graph[n] is not None:\n",
    "            # Leaf node is an open metanode\n",
    "            parent_metanode_id = label2metanode[node_in_graph[n].getName()]\n",
    "        else:\n",
    "            # leaf node not in an open metanode, this is odd but it happens in ivOrigins\n",
    "            # but when it happens, the parent_metanode is always the root\n",
    "            parent_metanode_id = root\n",
    "        leaf_nodes.append({\n",
    "            'id': n.id,\n",
    "            'parent_metanode': parent_metanode_id, \n",
    "            'geometry': Point(center_coor.x(), center_coor.y()).buffer(width / 2.0, cap_style=CAP_STYLE.square),\n",
    "            'diameter': width * SQUARE_ROOT_2,\n",
    "        })       \n",
    "    else:\n",
    "        # closed metanode.  Note that they are already recorded in \"metanodes\"\n",
    "        metanode_id = label2metanode[view_label[n]]\n",
    "        dict.update(metanodes[metanode_id], {\n",
    "            'geometry': Point(center_coor.x(), center_coor.y()).buffer(width / 2.0, cap_style=CAP_STYLE.round),\n",
    "            'diatmeter': width\n",
    "        })\n",
    "print(len(leaf_nodes))"
   ]
  },
  {
   "cell_type": "code",
   "execution_count": 108,
   "metadata": {
    "ExecuteTime": {
     "end_time": "2019-01-24T02:48:06.875397Z",
     "start_time": "2019-01-24T02:48:06.846364Z"
    }
   },
   "outputs": [
    {
     "name": "stdout",
     "output_type": "stream",
     "text": [
      "dealing with:  Tree 8: n 10 e 31 (Hier: n 2 e 1) parent: Biconnected 0: n 103 e 505 (Hier: n 19 e 18)\n",
      "dealing with:  Unknown 13: n 9 e 29 (Hier: n 9 e 30) parent: Tree 8: n 10 e 31 (Hier: n 2 e 1)\n",
      "dealing with:  Tree 10: n 32 e 201 (Hier: n 3 e 2) parent: Biconnected 0: n 103 e 505 (Hier: n 19 e 18)\n",
      "dealing with:  Unknown 14: n 23 e 167 (Hier: n 24 e 203) parent: Tree 10: n 32 e 201 (Hier: n 3 e 2)\n"
     ]
    }
   ],
   "source": [
    "# this is for printing the labels and then determine the ids manually by looking at the figure at Tulip\n",
    "for nid, m in metanodes.items():\n",
    "    if m['geometry'] is None and m['parent_metanode'] != root:\n",
    "        # indicates this is an open metanode\n",
    "        p = metanodes[m['parent_metanode']]\n",
    "        print('dealing with: ', m['label'], 'parent:', p['label'])\n",
    "        "
   ]
  },
  {
   "cell_type": "code",
   "execution_count": 109,
   "metadata": {
    "ExecuteTime": {
     "end_time": "2019-01-24T02:48:06.889906Z",
     "start_time": "2019-01-24T02:48:06.882095Z"
    }
   },
   "outputs": [],
   "source": [
    "# Open metanode IDs for different datasets.  Fill in manually\n",
    "\n",
    "# ivOrigins-open-2\n",
    "corr_node_ids = {\n",
    "    'Tree 8: n 10 e 31 (Hier: n 2 e 1)': 126,\n",
    "    'Unknown 13: n 9 e 29 (Hier: n 9 e 30)': 138,\n",
    "    'Tree 10: n 32 e 201 (Hier: n 3 e 2)': 127,\n",
    "    'Unknown 14: n 23 e 167 (Hier: n 24 e 203)': 139\n",
    "}"
   ]
  },
  {
   "cell_type": "code",
   "execution_count": 110,
   "metadata": {
    "ExecuteTime": {
     "end_time": "2019-01-24T02:48:06.982078Z",
     "start_time": "2019-01-24T02:48:06.893949Z"
    }
   },
   "outputs": [
    {
     "name": "stdout",
     "output_type": "stream",
     "text": [
      "{'desc_metanodes': {5: True, 6: True, 7: True},\n",
      " 'diameter': 0,\n",
      " 'diatmeter': 11.273799896240234,\n",
      " 'geometry': <shapely.geometry.polygon.Polygon object at 0x108a13940>,\n",
      " 'id': 4,\n",
      " 'label': 'Tree 8: n 10 e 31 (Hier: n 2 e 1)',\n",
      " 'leaf_nodes': {},\n",
      " 'level': 2,\n",
      " 'parent_metanode': 3}\n",
      "{'desc_metanodes': {7: True},\n",
      " 'diameter': 0,\n",
      " 'diatmeter': 9.758910179138184,\n",
      " 'geometry': <shapely.geometry.polygon.Polygon object at 0x108a139e8>,\n",
      " 'id': 6,\n",
      " 'label': 'Unknown 13: n 9 e 29 (Hier: n 9 e 30)',\n",
      " 'leaf_nodes': {},\n",
      " 'level': 3,\n",
      " 'parent_metanode': 4}\n",
      "{'desc_metanodes': {9: True, 10: True, 11: True, 12: True},\n",
      " 'diameter': 0,\n",
      " 'diatmeter': 18.94179916381836,\n",
      " 'geometry': <shapely.geometry.polygon.Polygon object at 0x1089fcfd0>,\n",
      " 'id': 8,\n",
      " 'label': 'Tree 10: n 32 e 201 (Hier: n 3 e 2)',\n",
      " 'leaf_nodes': {},\n",
      " 'level': 2,\n",
      " 'parent_metanode': 3}\n",
      "{'desc_metanodes': {10: True},\n",
      " 'diameter': 0,\n",
      " 'diatmeter': 14.49209976196289,\n",
      " 'geometry': <shapely.geometry.polygon.Polygon object at 0x108a6bef0>,\n",
      " 'id': 9,\n",
      " 'label': 'Unknown 14: n 23 e 167 (Hier: n 24 e 203)',\n",
      " 'leaf_nodes': {},\n",
      " 'level': 3,\n",
      " 'parent_metanode': 8}\n"
     ]
    }
   ],
   "source": [
    "# Find the layout info according to the manual defined IDs above\n",
    "for nid, m in metanodes.items():\n",
    "    if m['geometry'] is None and m['parent_metanode'] != root:\n",
    "        # indicates this is an open metanode\n",
    "        p = metanodes[m['parent_metanode']]\n",
    "        parent_subgraph = hierarchy_subgraphs.getSubGraph(p['label'])\n",
    "        assert(parent_subgraph is not None)\n",
    "        view_layout = parent_subgraph.getLayoutProperty('viewLayout')\n",
    "        view_size = parent_subgraph.getSizeProperty('viewSize')\n",
    "\n",
    "        # Find the corresponding node\n",
    "        which_node = None\n",
    "        for n in parent_subgraph.getNodes():\n",
    "            if n.id == corr_node_ids[m['label']]:\n",
    "                which_node = n\n",
    "                break\n",
    "        assert(which_node is not None)\n",
    "        \n",
    "        center_coor = view_layout[which_node]\n",
    "        diameter = view_size[which_node][0]\n",
    "        dict.update(m, {\n",
    "            'geometry': Point(center_coor.x(), center_coor.y()).buffer(width / 2.0, cap_style=CAP_STYLE.round),\n",
    "            'diatmeter': diameter\n",
    "        })\n",
    "        pprint(m)\n"
   ]
  },
  {
   "cell_type": "code",
   "execution_count": 111,
   "metadata": {
    "ExecuteTime": {
     "end_time": "2019-01-24T02:48:07.016397Z",
     "start_time": "2019-01-24T02:48:06.985638Z"
    }
   },
   "outputs": [
    {
     "name": "stdout",
     "output_type": "stream",
     "text": [
      "267\n"
     ]
    }
   ],
   "source": [
    "view_layout = final_layout_display.getLayoutProperty('viewLayout')\n",
    "\n",
    "for e in final_layout_display.getEdges():\n",
    "    src, tgt = graph.ends(e)\n",
    "    if src.id > tgt.id:\n",
    "        tmp = src\n",
    "        src = tgt\n",
    "        tgt = tmp\n",
    "    edge_id = '{}-{}'.format(src.id, tgt.id)\n",
    "    # print(edge_id, view_layout[src], view_layout[tgt])\n",
    "    edges.append({\n",
    "        'id': edge_id,\n",
    "        'ends': (src.id, tgt.id),\n",
    "        'geometry': LineString([(view_layout[src].x(), view_layout[src].y()),\n",
    "                                (view_layout[tgt].x(), view_layout[tgt].y())])\n",
    "    })\n",
    "print(len(edges))"
   ]
  },
  {
   "cell_type": "code",
   "execution_count": 112,
   "metadata": {
    "ExecuteTime": {
     "end_time": "2019-01-24T02:48:07.039973Z",
     "start_time": "2019-01-24T02:48:07.020567Z"
    },
    "collapsed": true
   },
   "outputs": [],
   "source": [
    "bbox = tlp.computeBoundingBox(final_layout_display)"
   ]
  },
  {
   "cell_type": "code",
   "execution_count": 113,
   "metadata": {
    "ExecuteTime": {
     "end_time": "2019-01-24T02:48:07.115333Z",
     "start_time": "2019-01-24T02:48:07.044328Z"
    }
   },
   "outputs": [],
   "source": [
    "# Use the mapping function from shapely to serialize the geometry objects\n",
    "for n in leaf_nodes:\n",
    "    n['geometry'] = mapping(n['geometry'])\n",
    "for e in edges:\n",
    "    e['geometry'] = mapping(e['geometry'])\n",
    "for _, n in metanodes.items():\n",
    "    if n['geometry'] is None:\n",
    "        # dirty fix: the root is not going to intersect with anyone so use a random point\n",
    "        n['geometry'] = Point(0,0)\n",
    "    n['geometry'] = mapping(n['geometry']) \n",
    "    if n['level'] > max_height:\n",
    "        max_height = n['level']\n",
    "\n",
    "json_data = {\n",
    "    'leaf_nodes': leaf_nodes,\n",
    "    'edges': edges,\n",
    "    'height': max_height,\n",
    "    'root': root,\n",
    "    'metanodes': metanodes,\n",
    "    'bounding_box': [[bbox[0].x(), bbox[0].y()], [bbox[1].x(), bbox[1].y()]]\n",
    "}"
   ]
  },
  {
   "cell_type": "code",
   "execution_count": 114,
   "metadata": {
    "ExecuteTime": {
     "end_time": "2019-01-24T02:48:07.193177Z",
     "start_time": "2019-01-24T02:48:07.123217Z"
    }
   },
   "outputs": [
    {
     "name": "stdout",
     "output_type": "stream",
     "text": [
      "Converted to  ../../../data/real-world-compiled/grouseflocks/grouseflocks-ivOrigins-grouseflocks-open-2.json  #nodes: 36  #edges:  267 #metanodes: 19  height:  4\n"
     ]
    }
   ],
   "source": [
    "json.dump(json_data, open(myjson_filepath, 'w'), indent=2)\n",
    "print('Converted to ', myjson_filepath, ' #nodes:', len(leaf_nodes), ' #edges: ', len(edges), \n",
    "      '#metanodes:', len(metanodes),\n",
    "      ' height: ', json_data['height'])"
   ]
  },
  {
   "cell_type": "code",
   "execution_count": null,
   "metadata": {
    "collapsed": true
   },
   "outputs": [],
   "source": []
  }
 ],
 "metadata": {
  "kernelspec": {
   "display_name": "Python 3",
   "language": "python",
   "name": "python3"
  },
  "language_info": {
   "codemirror_mode": {
    "name": "ipython",
    "version": 3
   },
   "file_extension": ".py",
   "mimetype": "text/x-python",
   "name": "python",
   "nbconvert_exporter": "python",
   "pygments_lexer": "ipython3",
   "version": "3.6.3"
  }
 },
 "nbformat": 4,
 "nbformat_minor": 2
}
