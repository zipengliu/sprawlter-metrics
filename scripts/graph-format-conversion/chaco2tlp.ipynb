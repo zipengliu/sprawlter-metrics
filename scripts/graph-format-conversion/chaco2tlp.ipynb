{
 "cells": [
  {
   "cell_type": "code",
   "execution_count": 1,
   "metadata": {
    "ExecuteTime": {
     "end_time": "2019-01-20T19:39:52.065704Z",
     "start_time": "2019-01-20T19:39:50.823523Z"
    },
    "collapsed": true
   },
   "outputs": [],
   "source": [
    "from tulip import tlp"
   ]
  },
  {
   "cell_type": "code",
   "execution_count": 11,
   "metadata": {
    "ExecuteTime": {
     "end_time": "2019-01-20T20:01:57.107507Z",
     "start_time": "2019-01-20T20:01:57.097880Z"
    },
    "collapsed": true
   },
   "outputs": [],
   "source": [
    "graph = tlp.newGraph()\n",
    "# The chaco format counts from one so we insert a dummy item at index zero\n",
    "nodes = [None]\n",
    "# chacofilepath = '../../../data/partition-graph/graphs/add32.graph'\n",
    "chacofilepath = '../../../data/partition-graph/graphs/bcsstk33.graph'"
   ]
  },
  {
   "cell_type": "code",
   "execution_count": 12,
   "metadata": {
    "ExecuteTime": {
     "end_time": "2019-01-20T20:02:11.713598Z",
     "start_time": "2019-01-20T20:02:10.715428Z"
    }
   },
   "outputs": [
    {
     "name": "stdout",
     "output_type": "stream",
     "text": [
      "8738 583166\n"
     ]
    }
   ],
   "source": [
    "with open(chacofilepath) as chacofile:\n",
    "    l = chacofile.readline()\n",
    "    num_nodes, num_edges = [int(x) for x in l.strip().split(' ')]\n",
    "    for i in range(num_nodes):\n",
    "        nodes.append(graph.addNode())\n",
    "    cur = 0\n",
    "    for line in chacofile:\n",
    "        cur += 1\n",
    "        neighbors = [int(x) for x in line.strip().split(' ')]\n",
    "        for n in neighbors:\n",
    "            graph.addEdge(nodes[cur], nodes[n])\n",
    "    print(graph.numberOfNodes(), graph.numberOfEdges())\n",
    "    assert(graph.numberOfEdges() == num_edges * 2)"
   ]
  },
  {
   "cell_type": "code",
   "execution_count": 13,
   "metadata": {
    "ExecuteTime": {
     "end_time": "2019-01-20T20:02:18.776665Z",
     "start_time": "2019-01-20T20:02:12.953184Z"
    }
   },
   "outputs": [
    {
     "data": {
      "text/plain": [
       "True"
      ]
     },
     "execution_count": 13,
     "metadata": {},
     "output_type": "execute_result"
    }
   ],
   "source": [
    "tlp.saveGraph(graph, '../../../data/partition-graph/bcsstk33.tlp')"
   ]
  },
  {
   "cell_type": "code",
   "execution_count": null,
   "metadata": {
    "collapsed": true
   },
   "outputs": [],
   "source": []
  }
 ],
 "metadata": {
  "kernelspec": {
   "display_name": "Python 3",
   "language": "python",
   "name": "python3"
  },
  "language_info": {
   "codemirror_mode": {
    "name": "ipython",
    "version": 3
   },
   "file_extension": ".py",
   "mimetype": "text/x-python",
   "name": "python",
   "nbconvert_exporter": "python",
   "pygments_lexer": "ipython3",
   "version": "3.6.3"
  }
 },
 "nbformat": 4,
 "nbformat_minor": 2
}
