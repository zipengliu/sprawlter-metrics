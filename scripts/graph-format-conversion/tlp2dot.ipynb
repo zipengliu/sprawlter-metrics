{
 "cells": [
  {
   "cell_type": "markdown",
   "metadata": {},
   "source": [
    "# Convert tlp file to DOT format\n",
    "\n",
    "Make sure to specify the node size and total graph size"
   ]
  },
  {
   "cell_type": "code",
   "execution_count": 1,
   "metadata": {
    "ExecuteTime": {
     "end_time": "2019-01-21T18:48:09.913532Z",
     "start_time": "2019-01-21T18:48:08.400859Z"
    },
    "collapsed": true
   },
   "outputs": [],
   "source": [
    "from tulip import tlp"
   ]
  },
  {
   "cell_type": "code",
   "execution_count": 6,
   "metadata": {
    "ExecuteTime": {
     "end_time": "2019-01-21T23:50:46.964220Z",
     "start_time": "2019-01-21T23:50:46.786699Z"
    },
    "collapsed": true
   },
   "outputs": [],
   "source": [
    "graph = tlp.loadGraph('../../../data/real-world-compiled/coauthor/coauthor-gem.tlp')"
   ]
  },
  {
   "cell_type": "code",
   "execution_count": 7,
   "metadata": {
    "ExecuteTime": {
     "end_time": "2019-01-21T23:50:47.302912Z",
     "start_time": "2019-01-21T23:50:47.215343Z"
    },
    "collapsed": true
   },
   "outputs": [],
   "source": [
    "with open('../../../data/real-world-compiled/coauthor/coauthor-gem.dot', 'w') as dotfile:\n",
    "    dotfile.write('strict graph G {\\n')\n",
    "    # dotfile.write('layout=sfdp;\\n')\n",
    "    # dotfile.write('size=\"600,600\";\\n')\n",
    "    # dotfile.write('node [fixedsize=true, height=0.01, width=0.01, shape=point, label=\"\", fillcolor=red];\\n')\n",
    "    for e in graph.getEdges():\n",
    "        eids = [x.id for x in graph.ends(e)]\n",
    "        dotfile.write('\\t{} -- {};\\n'.format(eids[0], eids[1]))\n",
    "    dotfile.write('}\\n')"
   ]
  },
  {
   "cell_type": "code",
   "execution_count": null,
   "metadata": {
    "collapsed": true
   },
   "outputs": [],
   "source": []
  }
 ],
 "metadata": {
  "kernelspec": {
   "display_name": "Python 3",
   "language": "python",
   "name": "python3"
  },
  "language_info": {
   "codemirror_mode": {
    "name": "ipython",
    "version": 3
   },
   "file_extension": ".py",
   "mimetype": "text/x-python",
   "name": "python",
   "nbconvert_exporter": "python",
   "pygments_lexer": "ipython3",
   "version": "3.6.3"
  }
 },
 "nbformat": 4,
 "nbformat_minor": 2
}
