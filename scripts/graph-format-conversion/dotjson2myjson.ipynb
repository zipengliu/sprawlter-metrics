{
 "cells": [
  {
   "cell_type": "markdown",
   "metadata": {},
   "source": [
    "# Convert the DOT json output to my customized json format, which is ready for multi-level metrics"
   ]
  },
  {
   "cell_type": "code",
   "execution_count": 1,
   "metadata": {
    "ExecuteTime": {
     "end_time": "2019-01-16T09:06:27.662775Z",
     "start_time": "2019-01-16T09:06:27.225529Z"
    },
    "collapsed": true
   },
   "outputs": [],
   "source": [
    "from shapely.geometry import *\n",
    "import json"
   ]
  },
  {
   "cell_type": "code",
   "execution_count": 39,
   "metadata": {
    "ExecuteTime": {
     "end_time": "2019-01-16T10:05:16.598785Z",
     "start_time": "2019-01-16T10:05:16.219763Z"
    },
    "collapsed": true
   },
   "outputs": [],
   "source": [
    "dotjson = json.load(open('../../../data/coauthor/sfdp.dot.json'))\n",
    "output_path = '../../../data/coauthor/sfdp.json'"
   ]
  },
  {
   "cell_type": "code",
   "execution_count": 40,
   "metadata": {
    "ExecuteTime": {
     "end_time": "2019-01-16T10:05:16.861236Z",
     "start_time": "2019-01-16T10:05:16.847285Z"
    }
   },
   "outputs": [
    {
     "data": {
      "text/plain": [
       "[0.0, 0.0, 477.4, 464.62]"
      ]
     },
     "execution_count": 40,
     "metadata": {},
     "output_type": "execute_result"
    }
   ],
   "source": [
    "bbox = [float(x) for x in dotjson['bb'].split(',')]\n",
    "bbox"
   ]
  },
  {
   "cell_type": "code",
   "execution_count": 41,
   "metadata": {
    "ExecuteTime": {
     "end_time": "2019-01-16T10:05:18.336701Z",
     "start_time": "2019-01-16T10:05:18.049929Z"
    }
   },
   "outputs": [
    {
     "data": {
      "text/plain": [
       "1808"
      ]
     },
     "execution_count": 41,
     "metadata": {},
     "output_type": "execute_result"
    }
   ],
   "source": [
    "nodes = []\n",
    "for node in dotjson['objects']:\n",
    "    nid = int(node['name'])\n",
    "    pos = [float(x) for x in node['pos'].split(',')]\n",
    "    # print(nid, pos)\n",
    "    d = float(node['height'])\n",
    "    g = Point(pos[0], pos[1]).buffer(d / 2.0, cap_style=CAP_STYLE.round)\n",
    "    nodes.append({'id': nid, 'parent_metanode': None, 'geometry': g, 'diameter': d})\n",
    "# nodes\n",
    "len(nodes)"
   ]
  },
  {
   "cell_type": "code",
   "execution_count": 42,
   "metadata": {
    "ExecuteTime": {
     "end_time": "2019-01-16T10:05:18.898168Z",
     "start_time": "2019-01-16T10:05:18.634513Z"
    }
   },
   "outputs": [
    {
     "data": {
      "text/plain": [
       "9387"
      ]
     },
     "execution_count": 42,
     "metadata": {},
     "output_type": "execute_result"
    }
   ],
   "source": [
    "edges = []\n",
    "for edge in dotjson['edges']:\n",
    "    ends = (edge['tail'], edge['head'])\n",
    "    eid = '{}-{}'.format(ends[0], ends[1])\n",
    "    points = edge['_draw_'][-1]['points']\n",
    "    s = ((points[0][0] + points[1][0]) / 2, (points[0][1] + points[1][1]) / 2)\n",
    "    e = ((points[2][0] + points[3][0]) / 2, (points[2][1] + points[3][1]) / 2)\n",
    "    g = LineString([s, e])\n",
    "    edges.append({'id': eid, 'ends': ends, 'geometry': g})\n",
    "    # print(eid, s, e)\n",
    "# edges\n",
    "len(edges)"
   ]
  },
  {
   "cell_type": "code",
   "execution_count": 43,
   "metadata": {
    "ExecuteTime": {
     "end_time": "2019-01-16T10:05:22.751901Z",
     "start_time": "2019-01-16T10:05:20.323770Z"
    }
   },
   "outputs": [],
   "source": [
    "for n in nodes:\n",
    "    n['geometry'] = mapping(n['geometry'])\n",
    "for e in edges:\n",
    "    e['geometry'] = mapping(e['geometry'])\n",
    "\n",
    "json_data = {\n",
    "    'leaf_nodes': nodes,\n",
    "    'edges': edges,\n",
    "    'height': 1,\n",
    "    'root': None,\n",
    "    'metanodes': {},\n",
    "    'bounding_box': [[bbox[0], bbox[1]], [bbox[2], bbox[3]]]\n",
    "}\n",
    "json.dump(json_data, open(output_path, 'w'))"
   ]
  },
  {
   "cell_type": "code",
   "execution_count": null,
   "metadata": {
    "collapsed": true
   },
   "outputs": [],
   "source": []
  }
 ],
 "metadata": {
  "kernelspec": {
   "display_name": "Python 3",
   "language": "python",
   "name": "python3"
  },
  "language_info": {
   "codemirror_mode": {
    "name": "ipython",
    "version": 3
   },
   "file_extension": ".py",
   "mimetype": "text/x-python",
   "name": "python",
   "nbconvert_exporter": "python",
   "pygments_lexer": "ipython3",
   "version": "3.6.3"
  }
 },
 "nbformat": 4,
 "nbformat_minor": 2
}
