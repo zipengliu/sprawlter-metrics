{
 "cells": [
  {
   "cell_type": "code",
   "execution_count": 26,
   "metadata": {
    "ExecuteTime": {
     "end_time": "2019-03-18T03:57:48.156578Z",
     "start_time": "2019-03-18T03:57:48.123554Z"
    },
    "collapsed": true
   },
   "outputs": [],
   "source": [
    "import os\n",
    "import json\n",
    "from pprint import pprint\n",
    "import pandas as pd\n",
    "import numpy as np\n",
    "import matplotlib.pyplot as plt\n",
    "%matplotlib inline  "
   ]
  },
  {
   "cell_type": "code",
   "execution_count": 27,
   "metadata": {
    "ExecuteTime": {
     "end_time": "2019-03-18T03:57:48.168360Z",
     "start_time": "2019-03-18T03:57:48.160200Z"
    },
    "collapsed": true
   },
   "outputs": [],
   "source": [
    "ALPHA = '0.13'\n",
    "P1_folder = '../../results-demo/public/data/param-ee-linear-{}'.format(ALPHA)\n",
    "P2_folder = '../../results-demo/public/data/param-ee-quadratic-{}'.format(ALPHA)\n"
   ]
  },
  {
   "cell_type": "code",
   "execution_count": 28,
   "metadata": {
    "ExecuteTime": {
     "end_time": "2019-03-18T03:57:48.183998Z",
     "start_time": "2019-03-18T03:57:48.173297Z"
    },
    "collapsed": true
   },
   "outputs": [],
   "source": [
    "# Read all graph names\n",
    "graphs_file_path = os.path.join(P1_folder, 'graphs.txt')\n",
    "graph_names = [l.strip() for l in open(graphs_file_path)]\n",
    "# pprint(graph_names)"
   ]
  },
  {
   "cell_type": "code",
   "execution_count": 29,
   "metadata": {
    "ExecuteTime": {
     "end_time": "2019-03-18T03:57:48.300127Z",
     "start_time": "2019-03-18T03:57:48.187502Z"
    }
   },
   "outputs": [],
   "source": [
    "df_arr = []\n",
    "\n",
    "for g in graph_names:\n",
    "    res_path = os.path.join(P1_folder, g + '_result.json')\n",
    "    res1 = json.load(open(res_path))\n",
    "    res_path = os.path.join(P2_folder, g + '_result.json')\n",
    "    res2 = json.load(open(res_path))\n",
    "    df_arr.append({\n",
    "        'layout': g,\n",
    "        'P1 (linear)': res1['metrics']['ee']['total_penalty'], \n",
    "        'P2 (quadratic)': res2['metrics']['ee']['total_penalty']\n",
    "    })\n"
   ]
  },
  {
   "cell_type": "code",
   "execution_count": 30,
   "metadata": {
    "ExecuteTime": {
     "end_time": "2019-03-18T03:57:48.322070Z",
     "start_time": "2019-03-18T03:57:48.307020Z"
    },
    "collapsed": true,
    "scrolled": false
   },
   "outputs": [],
   "source": [
    "d = pd.DataFrame(df_arr, columns=['layout', 'P1 (linear)', 'P2 (quadratic)'])"
   ]
  },
  {
   "cell_type": "code",
   "execution_count": 31,
   "metadata": {
    "ExecuteTime": {
     "end_time": "2019-03-18T03:57:48.351128Z",
     "start_time": "2019-03-18T03:57:48.327215Z"
    },
    "collapsed": true
   },
   "outputs": [],
   "source": [
    "d['ratio'] = d['P1 (linear)'] / d['P2 (quadratic)']"
   ]
  },
  {
   "cell_type": "code",
   "execution_count": 32,
   "metadata": {
    "ExecuteTime": {
     "end_time": "2019-03-18T03:57:48.412226Z",
     "start_time": "2019-03-18T03:57:48.356993Z"
    }
   },
   "outputs": [
    {
     "data": {
      "text/html": [
       "<div>\n",
       "<style>\n",
       "    .dataframe thead tr:only-child th {\n",
       "        text-align: right;\n",
       "    }\n",
       "\n",
       "    .dataframe thead th {\n",
       "        text-align: left;\n",
       "    }\n",
       "\n",
       "    .dataframe tbody tr th {\n",
       "        vertical-align: top;\n",
       "    }\n",
       "</style>\n",
       "<table border=\"1\" class=\"dataframe\">\n",
       "  <thead>\n",
       "    <tr style=\"text-align: right;\">\n",
       "      <th></th>\n",
       "      <th>layout</th>\n",
       "      <th>P1 (linear)</th>\n",
       "      <th>P2 (quadratic)</th>\n",
       "      <th>ratio</th>\n",
       "    </tr>\n",
       "  </thead>\n",
       "  <tbody>\n",
       "    <tr>\n",
       "      <th>30</th>\n",
       "      <td>Progression-ee-glancing</td>\n",
       "      <td>3.340241e+00</td>\n",
       "      <td>5.251465e+00</td>\n",
       "      <td>0.636059</td>\n",
       "    </tr>\n",
       "    <tr>\n",
       "      <th>27</th>\n",
       "      <td>progression-ee-ortho</td>\n",
       "      <td>4.415064e-01</td>\n",
       "      <td>6.422886e-01</td>\n",
       "      <td>0.687396</td>\n",
       "    </tr>\n",
       "    <tr>\n",
       "      <th>29</th>\n",
       "      <td>progression-ee-near-glancing</td>\n",
       "      <td>2.888051e+00</td>\n",
       "      <td>3.942519e+00</td>\n",
       "      <td>0.732540</td>\n",
       "    </tr>\n",
       "    <tr>\n",
       "      <th>35</th>\n",
       "      <td>coauthor-main-comp-grouseflocks-2</td>\n",
       "      <td>4.936255e+03</td>\n",
       "      <td>6.544835e+03</td>\n",
       "      <td>0.754221</td>\n",
       "    </tr>\n",
       "    <tr>\n",
       "      <th>24</th>\n",
       "      <td>progression-ne-some-meta</td>\n",
       "      <td>5.862139e+01</td>\n",
       "      <td>7.461319e+01</td>\n",
       "      <td>0.785671</td>\n",
       "    </tr>\n",
       "    <tr>\n",
       "      <th>17</th>\n",
       "      <td>progression-nn-some-leaf</td>\n",
       "      <td>2.793408e+01</td>\n",
       "      <td>3.518147e+01</td>\n",
       "      <td>0.794000</td>\n",
       "    </tr>\n",
       "    <tr>\n",
       "      <th>19</th>\n",
       "      <td>progression-nn-near-max-leaf</td>\n",
       "      <td>2.796475e+01</td>\n",
       "      <td>3.511805e+01</td>\n",
       "      <td>0.796307</td>\n",
       "    </tr>\n",
       "    <tr>\n",
       "      <th>25</th>\n",
       "      <td>progression-ne-near-max-leaf</td>\n",
       "      <td>3.024034e+01</td>\n",
       "      <td>3.730802e+01</td>\n",
       "      <td>0.810559</td>\n",
       "    </tr>\n",
       "    <tr>\n",
       "      <th>22</th>\n",
       "      <td>progression-ne-touch-meta</td>\n",
       "      <td>5.024102e+01</td>\n",
       "      <td>6.175846e+01</td>\n",
       "      <td>0.813508</td>\n",
       "    </tr>\n",
       "    <tr>\n",
       "      <th>23</th>\n",
       "      <td>progression-ne-some-leaf</td>\n",
       "      <td>3.107323e+01</td>\n",
       "      <td>3.790266e+01</td>\n",
       "      <td>0.819817</td>\n",
       "    </tr>\n",
       "    <tr>\n",
       "      <th>16</th>\n",
       "      <td>progression-nn-touch-meta</td>\n",
       "      <td>3.280864e+01</td>\n",
       "      <td>3.996906e+01</td>\n",
       "      <td>0.820851</td>\n",
       "    </tr>\n",
       "    <tr>\n",
       "      <th>18</th>\n",
       "      <td>progression-nn-some-meta</td>\n",
       "      <td>3.467722e+01</td>\n",
       "      <td>4.205126e+01</td>\n",
       "      <td>0.824642</td>\n",
       "    </tr>\n",
       "    <tr>\n",
       "      <th>49</th>\n",
       "      <td>partition-add32-fm3</td>\n",
       "      <td>1.190920e+04</td>\n",
       "      <td>1.443168e+04</td>\n",
       "      <td>0.825212</td>\n",
       "    </tr>\n",
       "    <tr>\n",
       "      <th>21</th>\n",
       "      <td>progression-ne-touch-leaf</td>\n",
       "      <td>3.240444e+01</td>\n",
       "      <td>3.898927e+01</td>\n",
       "      <td>0.831112</td>\n",
       "    </tr>\n",
       "    <tr>\n",
       "      <th>46</th>\n",
       "      <td>partition-add32-grouseflocks-open-0</td>\n",
       "      <td>3.185202e+02</td>\n",
       "      <td>3.825702e+02</td>\n",
       "      <td>0.832580</td>\n",
       "    </tr>\n",
       "    <tr>\n",
       "      <th>45</th>\n",
       "      <td>grouseflocks-ivOrigins-koala</td>\n",
       "      <td>1.583050e+04</td>\n",
       "      <td>1.899986e+04</td>\n",
       "      <td>0.833191</td>\n",
       "    </tr>\n",
       "    <tr>\n",
       "      <th>15</th>\n",
       "      <td>progression-nn-touch-leaf</td>\n",
       "      <td>3.302776e+01</td>\n",
       "      <td>3.960843e+01</td>\n",
       "      <td>0.833857</td>\n",
       "    </tr>\n",
       "    <tr>\n",
       "      <th>14</th>\n",
       "      <td>progression-nn-none</td>\n",
       "      <td>3.354035e+01</td>\n",
       "      <td>4.018227e+01</td>\n",
       "      <td>0.834705</td>\n",
       "    </tr>\n",
       "    <tr>\n",
       "      <th>41</th>\n",
       "      <td>snap-email-eu-core-main-comp-koala</td>\n",
       "      <td>2.304456e+07</td>\n",
       "      <td>2.723090e+07</td>\n",
       "      <td>0.846265</td>\n",
       "    </tr>\n",
       "    <tr>\n",
       "      <th>31</th>\n",
       "      <td>midsize-handmade1-1</td>\n",
       "      <td>5.046011e+03</td>\n",
       "      <td>5.956240e+03</td>\n",
       "      <td>0.847181</td>\n",
       "    </tr>\n",
       "    <tr>\n",
       "      <th>48</th>\n",
       "      <td>partition-add32-grouseflocks-open-5</td>\n",
       "      <td>1.304506e+03</td>\n",
       "      <td>1.536326e+03</td>\n",
       "      <td>0.849107</td>\n",
       "    </tr>\n",
       "    <tr>\n",
       "      <th>38</th>\n",
       "      <td>snap-email-eu-core-main-comp-grouseflocks-1</td>\n",
       "      <td>1.009912e+05</td>\n",
       "      <td>1.180742e+05</td>\n",
       "      <td>0.855319</td>\n",
       "    </tr>\n",
       "    <tr>\n",
       "      <th>47</th>\n",
       "      <td>partition-add32-grouseflocks-open-1</td>\n",
       "      <td>4.255392e+02</td>\n",
       "      <td>4.959785e+02</td>\n",
       "      <td>0.857979</td>\n",
       "    </tr>\n",
       "    <tr>\n",
       "      <th>50</th>\n",
       "      <td>partition-add32-koala</td>\n",
       "      <td>2.598300e+06</td>\n",
       "      <td>3.005264e+06</td>\n",
       "      <td>0.864583</td>\n",
       "    </tr>\n",
       "    <tr>\n",
       "      <th>39</th>\n",
       "      <td>snap-email-eu-core-main-comp-grouseflocks-2</td>\n",
       "      <td>5.323484e+05</td>\n",
       "      <td>6.136589e+05</td>\n",
       "      <td>0.867499</td>\n",
       "    </tr>\n",
       "    <tr>\n",
       "      <th>26</th>\n",
       "      <td>progression-ne-near-max-meta</td>\n",
       "      <td>1.050317e+02</td>\n",
       "      <td>1.208714e+02</td>\n",
       "      <td>0.868954</td>\n",
       "    </tr>\n",
       "    <tr>\n",
       "      <th>1</th>\n",
       "      <td>four-clusters-ne0</td>\n",
       "      <td>4.868406e+01</td>\n",
       "      <td>5.594753e+01</td>\n",
       "      <td>0.870174</td>\n",
       "    </tr>\n",
       "    <tr>\n",
       "      <th>6</th>\n",
       "      <td>four-clusters-ee0</td>\n",
       "      <td>8.349215e+01</td>\n",
       "      <td>9.329927e+01</td>\n",
       "      <td>0.894885</td>\n",
       "    </tr>\n",
       "    <tr>\n",
       "      <th>37</th>\n",
       "      <td>coauthor-main-comp-koala</td>\n",
       "      <td>1.311656e+06</td>\n",
       "      <td>1.452158e+06</td>\n",
       "      <td>0.903246</td>\n",
       "    </tr>\n",
       "    <tr>\n",
       "      <th>3</th>\n",
       "      <td>four-clusters-nn0</td>\n",
       "      <td>3.252898e+01</td>\n",
       "      <td>3.571862e+01</td>\n",
       "      <td>0.910701</td>\n",
       "    </tr>\n",
       "    <tr>\n",
       "      <th>5</th>\n",
       "      <td>four-clusters-nn2</td>\n",
       "      <td>6.918811e+01</td>\n",
       "      <td>7.566904e+01</td>\n",
       "      <td>0.914352</td>\n",
       "    </tr>\n",
       "    <tr>\n",
       "      <th>33</th>\n",
       "      <td>coauthor-main-comp-grouseflocks-0</td>\n",
       "      <td>8.209963e+02</td>\n",
       "      <td>8.975105e+02</td>\n",
       "      <td>0.914748</td>\n",
       "    </tr>\n",
       "    <tr>\n",
       "      <th>20</th>\n",
       "      <td>progression-nn-near-max-meta</td>\n",
       "      <td>9.028304e+01</td>\n",
       "      <td>9.844819e+01</td>\n",
       "      <td>0.917061</td>\n",
       "    </tr>\n",
       "    <tr>\n",
       "      <th>36</th>\n",
       "      <td>coauthor-main-comp-gem</td>\n",
       "      <td>1.363562e+05</td>\n",
       "      <td>1.483686e+05</td>\n",
       "      <td>0.919037</td>\n",
       "    </tr>\n",
       "    <tr>\n",
       "      <th>2</th>\n",
       "      <td>four-clusters-ne1</td>\n",
       "      <td>1.029370e+02</td>\n",
       "      <td>1.118026e+02</td>\n",
       "      <td>0.920703</td>\n",
       "    </tr>\n",
       "    <tr>\n",
       "      <th>32</th>\n",
       "      <td>midsize-handmade1-100</td>\n",
       "      <td>1.506297e+03</td>\n",
       "      <td>1.635907e+03</td>\n",
       "      <td>0.920772</td>\n",
       "    </tr>\n",
       "    <tr>\n",
       "      <th>4</th>\n",
       "      <td>four-clusters-nn1</td>\n",
       "      <td>4.365885e+01</td>\n",
       "      <td>4.720971e+01</td>\n",
       "      <td>0.924785</td>\n",
       "    </tr>\n",
       "    <tr>\n",
       "      <th>40</th>\n",
       "      <td>snap-email-eu-core-main-comp-gem</td>\n",
       "      <td>6.598372e+06</td>\n",
       "      <td>7.122518e+06</td>\n",
       "      <td>0.926410</td>\n",
       "    </tr>\n",
       "    <tr>\n",
       "      <th>44</th>\n",
       "      <td>grouseflocks-ivOrigins-gem</td>\n",
       "      <td>3.124227e+03</td>\n",
       "      <td>3.348275e+03</td>\n",
       "      <td>0.933085</td>\n",
       "    </tr>\n",
       "    <tr>\n",
       "      <th>43</th>\n",
       "      <td>grouseflocks-ivOrigins-grouseflocks-open-4</td>\n",
       "      <td>3.206937e+01</td>\n",
       "      <td>3.420173e+01</td>\n",
       "      <td>0.937654</td>\n",
       "    </tr>\n",
       "    <tr>\n",
       "      <th>0</th>\n",
       "      <td>four-clusters-original</td>\n",
       "      <td>2.980483e+01</td>\n",
       "      <td>3.175511e+01</td>\n",
       "      <td>0.938584</td>\n",
       "    </tr>\n",
       "    <tr>\n",
       "      <th>34</th>\n",
       "      <td>coauthor-main-comp-grouseflocks-1</td>\n",
       "      <td>6.364341e+02</td>\n",
       "      <td>6.680972e+02</td>\n",
       "      <td>0.952607</td>\n",
       "    </tr>\n",
       "    <tr>\n",
       "      <th>42</th>\n",
       "      <td>grouseflocks-ivOrigins-grouseflocks-open-2</td>\n",
       "      <td>2.186668e+03</td>\n",
       "      <td>2.246326e+03</td>\n",
       "      <td>0.973442</td>\n",
       "    </tr>\n",
       "    <tr>\n",
       "      <th>9</th>\n",
       "      <td>special-cases-3</td>\n",
       "      <td>2.314580e+01</td>\n",
       "      <td>2.167522e+01</td>\n",
       "      <td>1.067846</td>\n",
       "    </tr>\n",
       "    <tr>\n",
       "      <th>10</th>\n",
       "      <td>special-cases-4</td>\n",
       "      <td>1.752611e+01</td>\n",
       "      <td>1.594977e+01</td>\n",
       "      <td>1.098832</td>\n",
       "    </tr>\n",
       "    <tr>\n",
       "      <th>11</th>\n",
       "      <td>special-cases-5</td>\n",
       "      <td>7.569175e+00</td>\n",
       "      <td>6.858413e+00</td>\n",
       "      <td>1.103634</td>\n",
       "    </tr>\n",
       "    <tr>\n",
       "      <th>13</th>\n",
       "      <td>special-cases-7</td>\n",
       "      <td>3.187592e+00</td>\n",
       "      <td>2.850860e+00</td>\n",
       "      <td>1.118116</td>\n",
       "    </tr>\n",
       "    <tr>\n",
       "      <th>12</th>\n",
       "      <td>special-cases-6</td>\n",
       "      <td>2.974069e+00</td>\n",
       "      <td>2.655447e+00</td>\n",
       "      <td>1.119988</td>\n",
       "    </tr>\n",
       "    <tr>\n",
       "      <th>28</th>\n",
       "      <td>progression-ee-half</td>\n",
       "      <td>1.448471e+00</td>\n",
       "      <td>1.280616e+00</td>\n",
       "      <td>1.131074</td>\n",
       "    </tr>\n",
       "    <tr>\n",
       "      <th>7</th>\n",
       "      <td>special-cases-1</td>\n",
       "      <td>2.135711e+00</td>\n",
       "      <td>1.887520e+00</td>\n",
       "      <td>1.131490</td>\n",
       "    </tr>\n",
       "    <tr>\n",
       "      <th>8</th>\n",
       "      <td>special-cases-2</td>\n",
       "      <td>2.449106e+00</td>\n",
       "      <td>2.152377e+00</td>\n",
       "      <td>1.137861</td>\n",
       "    </tr>\n",
       "  </tbody>\n",
       "</table>\n",
       "</div>"
      ],
      "text/plain": [
       "                                         layout   P1 (linear)  P2 (quadratic)  \\\n",
       "30                      Progression-ee-glancing  3.340241e+00    5.251465e+00   \n",
       "27                         progression-ee-ortho  4.415064e-01    6.422886e-01   \n",
       "29                 progression-ee-near-glancing  2.888051e+00    3.942519e+00   \n",
       "35            coauthor-main-comp-grouseflocks-2  4.936255e+03    6.544835e+03   \n",
       "24                     progression-ne-some-meta  5.862139e+01    7.461319e+01   \n",
       "17                     progression-nn-some-leaf  2.793408e+01    3.518147e+01   \n",
       "19                 progression-nn-near-max-leaf  2.796475e+01    3.511805e+01   \n",
       "25                 progression-ne-near-max-leaf  3.024034e+01    3.730802e+01   \n",
       "22                    progression-ne-touch-meta  5.024102e+01    6.175846e+01   \n",
       "23                     progression-ne-some-leaf  3.107323e+01    3.790266e+01   \n",
       "16                    progression-nn-touch-meta  3.280864e+01    3.996906e+01   \n",
       "18                     progression-nn-some-meta  3.467722e+01    4.205126e+01   \n",
       "49                          partition-add32-fm3  1.190920e+04    1.443168e+04   \n",
       "21                    progression-ne-touch-leaf  3.240444e+01    3.898927e+01   \n",
       "46          partition-add32-grouseflocks-open-0  3.185202e+02    3.825702e+02   \n",
       "45                 grouseflocks-ivOrigins-koala  1.583050e+04    1.899986e+04   \n",
       "15                    progression-nn-touch-leaf  3.302776e+01    3.960843e+01   \n",
       "14                          progression-nn-none  3.354035e+01    4.018227e+01   \n",
       "41           snap-email-eu-core-main-comp-koala  2.304456e+07    2.723090e+07   \n",
       "31                          midsize-handmade1-1  5.046011e+03    5.956240e+03   \n",
       "48          partition-add32-grouseflocks-open-5  1.304506e+03    1.536326e+03   \n",
       "38  snap-email-eu-core-main-comp-grouseflocks-1  1.009912e+05    1.180742e+05   \n",
       "47          partition-add32-grouseflocks-open-1  4.255392e+02    4.959785e+02   \n",
       "50                        partition-add32-koala  2.598300e+06    3.005264e+06   \n",
       "39  snap-email-eu-core-main-comp-grouseflocks-2  5.323484e+05    6.136589e+05   \n",
       "26                 progression-ne-near-max-meta  1.050317e+02    1.208714e+02   \n",
       "1                             four-clusters-ne0  4.868406e+01    5.594753e+01   \n",
       "6                             four-clusters-ee0  8.349215e+01    9.329927e+01   \n",
       "37                     coauthor-main-comp-koala  1.311656e+06    1.452158e+06   \n",
       "3                             four-clusters-nn0  3.252898e+01    3.571862e+01   \n",
       "5                             four-clusters-nn2  6.918811e+01    7.566904e+01   \n",
       "33            coauthor-main-comp-grouseflocks-0  8.209963e+02    8.975105e+02   \n",
       "20                 progression-nn-near-max-meta  9.028304e+01    9.844819e+01   \n",
       "36                       coauthor-main-comp-gem  1.363562e+05    1.483686e+05   \n",
       "2                             four-clusters-ne1  1.029370e+02    1.118026e+02   \n",
       "32                        midsize-handmade1-100  1.506297e+03    1.635907e+03   \n",
       "4                             four-clusters-nn1  4.365885e+01    4.720971e+01   \n",
       "40             snap-email-eu-core-main-comp-gem  6.598372e+06    7.122518e+06   \n",
       "44                   grouseflocks-ivOrigins-gem  3.124227e+03    3.348275e+03   \n",
       "43   grouseflocks-ivOrigins-grouseflocks-open-4  3.206937e+01    3.420173e+01   \n",
       "0                        four-clusters-original  2.980483e+01    3.175511e+01   \n",
       "34            coauthor-main-comp-grouseflocks-1  6.364341e+02    6.680972e+02   \n",
       "42   grouseflocks-ivOrigins-grouseflocks-open-2  2.186668e+03    2.246326e+03   \n",
       "9                               special-cases-3  2.314580e+01    2.167522e+01   \n",
       "10                              special-cases-4  1.752611e+01    1.594977e+01   \n",
       "11                              special-cases-5  7.569175e+00    6.858413e+00   \n",
       "13                              special-cases-7  3.187592e+00    2.850860e+00   \n",
       "12                              special-cases-6  2.974069e+00    2.655447e+00   \n",
       "28                          progression-ee-half  1.448471e+00    1.280616e+00   \n",
       "7                               special-cases-1  2.135711e+00    1.887520e+00   \n",
       "8                               special-cases-2  2.449106e+00    2.152377e+00   \n",
       "\n",
       "       ratio  \n",
       "30  0.636059  \n",
       "27  0.687396  \n",
       "29  0.732540  \n",
       "35  0.754221  \n",
       "24  0.785671  \n",
       "17  0.794000  \n",
       "19  0.796307  \n",
       "25  0.810559  \n",
       "22  0.813508  \n",
       "23  0.819817  \n",
       "16  0.820851  \n",
       "18  0.824642  \n",
       "49  0.825212  \n",
       "21  0.831112  \n",
       "46  0.832580  \n",
       "45  0.833191  \n",
       "15  0.833857  \n",
       "14  0.834705  \n",
       "41  0.846265  \n",
       "31  0.847181  \n",
       "48  0.849107  \n",
       "38  0.855319  \n",
       "47  0.857979  \n",
       "50  0.864583  \n",
       "39  0.867499  \n",
       "26  0.868954  \n",
       "1   0.870174  \n",
       "6   0.894885  \n",
       "37  0.903246  \n",
       "3   0.910701  \n",
       "5   0.914352  \n",
       "33  0.914748  \n",
       "20  0.917061  \n",
       "36  0.919037  \n",
       "2   0.920703  \n",
       "32  0.920772  \n",
       "4   0.924785  \n",
       "40  0.926410  \n",
       "44  0.933085  \n",
       "43  0.937654  \n",
       "0   0.938584  \n",
       "34  0.952607  \n",
       "42  0.973442  \n",
       "9   1.067846  \n",
       "10  1.098832  \n",
       "11  1.103634  \n",
       "13  1.118116  \n",
       "12  1.119988  \n",
       "28  1.131074  \n",
       "7   1.131490  \n",
       "8   1.137861  "
      ]
     },
     "execution_count": 32,
     "metadata": {},
     "output_type": "execute_result"
    }
   ],
   "source": [
    "d.sort_values('ratio')"
   ]
  },
  {
   "cell_type": "code",
   "execution_count": 33,
   "metadata": {
    "ExecuteTime": {
     "end_time": "2019-03-18T03:57:48.442102Z",
     "start_time": "2019-03-18T03:57:48.420138Z"
    }
   },
   "outputs": [
    {
     "data": {
      "text/plain": [
       "count    51.000000\n",
       "mean      0.896161\n",
       "std       0.114958\n",
       "min       0.636059\n",
       "25%       0.828162\n",
       "50%       0.868954\n",
       "75%       0.929748\n",
       "max       1.137861\n",
       "Name: ratio, dtype: float64"
      ]
     },
     "execution_count": 33,
     "metadata": {},
     "output_type": "execute_result"
    }
   ],
   "source": [
    "d['ratio'].describe()"
   ]
  },
  {
   "cell_type": "code",
   "execution_count": 34,
   "metadata": {
    "ExecuteTime": {
     "end_time": "2019-03-18T03:57:48.747363Z",
     "start_time": "2019-03-18T03:57:48.448362Z"
    }
   },
   "outputs": [
    {
     "data": {
      "text/plain": [
       "<matplotlib.axes._subplots.AxesSubplot at 0x1164feeb8>"
      ]
     },
     "execution_count": 34,
     "metadata": {},
     "output_type": "execute_result"
    },
    {
     "data": {
      "text/plain": [
       "<matplotlib.figure.Figure at 0x116503208>"
      ]
     },
     "metadata": {},
     "output_type": "display_data"
    },
    {
     "data": {
      "image/png": "[encoded data removed]",
      "text/plain": [
       "<matplotlib.figure.Figure at 0x116503cc0>"
      ]
     },
     "metadata": {},
     "output_type": "display_data"
    }
   ],
   "source": [
    "# Draw a scatterplot: x is the linear penalty and y is quadratic penalty\n",
    "plt.figure()\n",
    "d[d['P1 (linear)'] < 1000].plot.scatter(x='P1 (linear)', y='P2 (quadratic)')"
   ]
  },
  {
   "cell_type": "code",
   "execution_count": 35,
   "metadata": {
    "ExecuteTime": {
     "end_time": "2019-03-18T03:57:48.933858Z",
     "start_time": "2019-03-18T03:57:48.752846Z"
    }
   },
   "outputs": [
    {
     "data": {
      "text/plain": [
       "<matplotlib.axes._subplots.AxesSubplot at 0x11642abe0>"
      ]
     },
     "execution_count": 35,
     "metadata": {},
     "output_type": "execute_result"
    },
    {
     "data": {
      "image/png": "[encoded data removed]",
      "text/plain": [
       "<matplotlib.figure.Figure at 0x1164f5588>"
      ]
     },
     "metadata": {},
     "output_type": "display_data"
    }
   ],
   "source": [
    "d[d['P1 (linear)'] > 1000].plot.scatter(x='P1 (linear)', y='P2 (quadratic)')"
   ]
  },
  {
   "cell_type": "code",
   "execution_count": 52,
   "metadata": {
    "ExecuteTime": {
     "end_time": "2019-03-18T04:09:48.018466Z",
     "start_time": "2019-03-18T04:09:47.290577Z"
    }
   },
   "outputs": [
    {
     "data": {
      "image/png": "[encoded data removed]",
      "text/plain": [
       "<matplotlib.figure.Figure at 0x119f08ac8>"
      ]
     },
     "metadata": {},
     "output_type": "display_data"
    }
   ],
   "source": [
    "plt.rcParams.update({'font.size': 14, 'font.serif': 'Times'})\n",
    "\n",
    "fig = plt.figure()\n",
    "ax = plt.gca()\n",
    "ax.scatter(d['P1 (linear)'] ,d['P2 (quadratic)'] , c='blue', alpha=0.50, edgecolors='none')\n",
    "ax.set_yscale('log')\n",
    "ax.set_xscale('log')\n",
    "ax.set_xlabel('log EE penalty (linear)', fontsize='large')\n",
    "ax.set_ylabel('log EE penalty (quadratic)', fontsize='large')\n",
    "\n",
    "\n",
    "# d.plot(x='P1 (linear)', y='P2 (quadratic)', kind='scatter', loglog=True, fontsize=12)\n",
    "plt.savefig('../../../images/linear-vs-quad.eps', bbox_inches='tight', pad_inches=0.05)"
   ]
  },
  {
   "cell_type": "code",
   "execution_count": 57,
   "metadata": {
    "ExecuteTime": {
     "end_time": "2019-03-18T04:51:43.529179Z",
     "start_time": "2019-03-18T04:51:43.524423Z"
    },
    "collapsed": true
   },
   "outputs": [],
   "source": [
    "from scipy.stats.stats import pearsonr, linregress"
   ]
  },
  {
   "cell_type": "code",
   "execution_count": 55,
   "metadata": {
    "ExecuteTime": {
     "end_time": "2019-03-18T04:12:38.347364Z",
     "start_time": "2019-03-18T04:12:38.331459Z"
    }
   },
   "outputs": [
    {
     "data": {
      "text/plain": [
       "(0.9997260535944853, 1.4168550915168916e-81)"
      ]
     },
     "execution_count": 55,
     "metadata": {},
     "output_type": "execute_result"
    }
   ],
   "source": [
    "pearsonr(d['P1 (linear)'] ,d['P2 (quadratic)'])"
   ]
  },
  {
   "cell_type": "code",
   "execution_count": 58,
   "metadata": {
    "ExecuteTime": {
     "end_time": "2019-03-18T04:51:55.849055Z",
     "start_time": "2019-03-18T04:51:55.815257Z"
    }
   },
   "outputs": [
    {
     "data": {
      "text/plain": [
       "LinregressResult(slope=1.1742118846464484, intercept=-11967.577196918428, rvalue=0.99972605359448541, pvalue=1.4168550915028081e-81, stderr=0.0039272222266761884)"
      ]
     },
     "execution_count": 58,
     "metadata": {},
     "output_type": "execute_result"
    }
   ],
   "source": [
    "linregress(d['P1 (linear)'] ,d['P2 (quadratic)'])"
   ]
  },
  {
   "cell_type": "code",
   "execution_count": null,
   "metadata": {
    "collapsed": true
   },
   "outputs": [],
   "source": []
  }
 ],
 "metadata": {
  "kernelspec": {
   "display_name": "Python 3",
   "language": "python",
   "name": "python3"
  },
  "language_info": {
   "codemirror_mode": {
    "name": "ipython",
    "version": 3
   },
   "file_extension": ".py",
   "mimetype": "text/x-python",
   "name": "python",
   "nbconvert_exporter": "python",
   "pygments_lexer": "ipython3",
   "version": "3.6.3"
  }
 },
 "nbformat": 4,
 "nbformat_minor": 2
}
