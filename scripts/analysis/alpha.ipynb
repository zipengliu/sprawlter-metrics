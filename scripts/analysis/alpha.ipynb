{
 "cells": [
  {
   "cell_type": "code",
   "execution_count": 1,
   "metadata": {
    "ExecuteTime": {
     "end_time": "2019-03-31T07:43:55.099147Z",
     "start_time": "2019-03-31T07:43:53.602491Z"
    },
    "collapsed": true
   },
   "outputs": [],
   "source": [
    "import os\n",
    "import json\n",
    "from pprint import pprint\n",
    "import pandas as pd\n",
    "import numpy as np\n",
    "import matplotlib.pyplot as plt\n",
    "%matplotlib inline  "
   ]
  },
  {
   "cell_type": "code",
   "execution_count": 2,
   "metadata": {
    "ExecuteTime": {
     "end_time": "2019-03-31T07:43:55.108245Z",
     "start_time": "2019-03-31T07:43:55.102198Z"
    },
    "collapsed": true
   },
   "outputs": [],
   "source": [
    "WHICH_CASE = 'ne'\n",
    "EE_FUNC_TYPE = 'quadratic'"
   ]
  },
  {
   "cell_type": "code",
   "execution_count": 3,
   "metadata": {
    "ExecuteTime": {
     "end_time": "2019-03-31T07:43:55.144235Z",
     "start_time": "2019-03-31T07:43:55.112729Z"
    }
   },
   "outputs": [
    {
     "name": "stdout",
     "output_type": "stream",
     "text": [
      "['touch-leaf',\n",
      " 'touch-meta',\n",
      " 'some-leaf',\n",
      " 'some-meta',\n",
      " 'near-max-leaf',\n",
      " 'near-max-meta']\n",
      "['../../results-demo/public/data/param-nn-ne-0.01',\n",
      " '../../results-demo/public/data/param-nn-ne-0.2',\n",
      " '../../results-demo/public/data/param-nn-ne-0.4',\n",
      " '../../results-demo/public/data/param-nn-ne-0.6',\n",
      " '../../results-demo/public/data/param-nn-ne-0.8',\n",
      " '../../results-demo/public/data/param-nn-ne-0.99']\n"
     ]
    }
   ],
   "source": [
    "\n",
    "if WHICH_CASE == 'ee':\n",
    "    graph_names = ['ortho', 'half', 'near-glancing', 'glancing']\n",
    "    alpha_values = ['0.01', '0.07', '0.13', '0.20', '0.26', '0.328']\n",
    "    run_folders = ['../../results-demo/public/data/param-ee-quadratic-{}'.format(a) for a in alpha_values]\n",
    "else:\n",
    "    graph_names = ['touch-leaf', 'touch-meta', 'some-leaf', 'some-meta', 'near-max-leaf', 'near-max-meta']\n",
    "    alpha_values = ['0.01', '0.2', '0.4', '0.6', '0.8', '0.99']\n",
    "    run_folders = ['../../results-demo/public/data/param-nn-ne-{}'.format(a) for a in alpha_values]\n",
    "\n",
    "pprint(graph_names)\n",
    "pprint(run_folders)"
   ]
  },
  {
   "cell_type": "code",
   "execution_count": 4,
   "metadata": {
    "ExecuteTime": {
     "end_time": "2019-03-31T07:43:55.207092Z",
     "start_time": "2019-03-31T07:43:55.148360Z"
    }
   },
   "outputs": [
    {
     "name": "stdout",
     "output_type": "stream",
     "text": [
      "[[24.326565671184383, 70.62918086239604, 61.637458212201295, 330.0034099822545, 103.58733466845149, 868.1730858208127], [25.182384802019588, 70.41358410143445, 57.946912441773435, 316.6299256616879, 94.43175732397025, 794.8804312699937], [26.083247045004015, 70.1866401425275, 54.06212742027043, 302.55257374530197, 84.79430748767419, 717.7302685849212], [26.98410928798843, 69.95969618362052, 50.177342398767415, 288.47522182891595, 75.15685765137812, 640.5801058998486], [27.884971530972855, 69.73275222471358, 46.29255737726441, 274.39786991253004, 65.51940781508206, 563.4299432147759], [28.740790661808063, 69.51715546375196, 42.602011606836555, 261.02438559196344, 56.363830470600796, 490.13728866395695]]\n"
     ]
    }
   ],
   "source": [
    "counts = []\n",
    "penalties = []\n",
    "getting_counts = True\n",
    "for folder in run_folders:\n",
    "    tmp = []\n",
    "    for g in graph_names:\n",
    "        res_path = os.path.join(folder, 'progression-{}-{}_result.json'.format(WHICH_CASE, g))\n",
    "        res = json.load(open(res_path))\n",
    "        p = res['metrics'][WHICH_CASE]['total_penalty']\n",
    "        c = res['metrics'][WHICH_CASE]['total_count']\n",
    "        tmp.append(p)\n",
    "        if getting_counts:\n",
    "            counts.append(c)\n",
    "    getting_counts = False\n",
    "    penalties.append(tmp)\n",
    "print(penalties)"
   ]
  },
  {
   "cell_type": "code",
   "execution_count": 5,
   "metadata": {
    "ExecuteTime": {
     "end_time": "2019-03-31T07:43:55.220808Z",
     "start_time": "2019-03-31T07:43:55.210507Z"
    },
    "collapsed": true
   },
   "outputs": [],
   "source": [
    "# Write a latex tabular\n",
    "with open('{}.tex'.format(WHICH_CASE), 'w') as f:\n",
    "#     f.write('& ' + ' & '.join(str(c) for c in counts) + ' \\\\\\\\ \\n')\n",
    "    for i, x in enumerate(penalties):\n",
    "        f.write('& ' + alpha_values[i] + ' & ' + ' & '.join(['{:.2f}'.format(p) for p in x]) + ' \\\\\\\\ \\n')"
   ]
  },
  {
   "cell_type": "code",
   "execution_count": 6,
   "metadata": {
    "ExecuteTime": {
     "end_time": "2019-03-31T07:43:55.233594Z",
     "start_time": "2019-03-31T07:43:55.225357Z"
    }
   },
   "outputs": [
    {
     "name": "stdout",
     "output_type": "stream",
     "text": [
      "[4, 6, 5, 15, 5, 36]\n"
     ]
    }
   ],
   "source": [
    "pprint(counts)"
   ]
  },
  {
   "cell_type": "code",
   "execution_count": null,
   "metadata": {
    "collapsed": true
   },
   "outputs": [],
   "source": []
  }
 ],
 "metadata": {
  "kernelspec": {
   "display_name": "Python 3",
   "language": "python",
   "name": "python3"
  },
  "language_info": {
   "codemirror_mode": {
    "name": "ipython",
    "version": 3
   },
   "file_extension": ".py",
   "mimetype": "text/x-python",
   "name": "python",
   "nbconvert_exporter": "python",
   "pygments_lexer": "ipython3",
   "version": "3.6.3"
  }
 },
 "nbformat": 4,
 "nbformat_minor": 2
}
