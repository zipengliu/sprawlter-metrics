{
 "cells": [
  {
   "cell_type": "code",
   "execution_count": 13,
   "metadata": {
    "ExecuteTime": {
     "end_time": "2019-09-27T06:18:51.986965Z",
     "start_time": "2019-09-27T06:18:51.955629Z"
    },
    "collapsed": true
   },
   "outputs": [],
   "source": [
    "import os\n",
    "import json\n",
    "from pprint import pprint\n",
    "import pandas as pd\n",
    "import numpy as np\n",
    "import matplotlib.pyplot as plt\n",
    "%matplotlib inline  "
   ]
  },
  {
   "cell_type": "code",
   "execution_count": 14,
   "metadata": {
    "ExecuteTime": {
     "end_time": "2019-09-27T06:18:52.027634Z",
     "start_time": "2019-09-27T06:18:52.000772Z"
    },
    "collapsed": true
   },
   "outputs": [],
   "source": [
    "WHICH_CASE = 'ne'\n",
    "EE_FUNC_TYPE = 'quadratic'"
   ]
  },
  {
   "cell_type": "code",
   "execution_count": 15,
   "metadata": {
    "ExecuteTime": {
     "end_time": "2019-09-27T06:18:52.121109Z",
     "start_time": "2019-09-27T06:18:52.046314Z"
    }
   },
   "outputs": [
    {
     "name": "stdout",
     "output_type": "stream",
     "text": [
      "['touch-leaf',\n",
      " 'touch-meta',\n",
      " 'some-leaf',\n",
      " 'some-meta',\n",
      " 'near-max-leaf',\n",
      " 'near-max-meta']\n",
      "['../../comparative-analysis/static/data/param-nn-ne-0.01',\n",
      " '../../comparative-analysis/static/data/param-nn-ne-0.2',\n",
      " '../../comparative-analysis/static/data/param-nn-ne-0.4',\n",
      " '../../comparative-analysis/static/data/param-nn-ne-0.6',\n",
      " '../../comparative-analysis/static/data/param-nn-ne-0.8',\n",
      " '../../comparative-analysis/static/data/param-nn-ne-0.99']\n"
     ]
    }
   ],
   "source": [
    "\n",
    "if WHICH_CASE == 'ee':\n",
    "    graph_names = ['ortho', 'half', 'near-glancing', 'glancing']\n",
    "    alpha_values = ['0.01', '0.07', '0.13', '0.20', '0.26', '0.328']\n",
    "    run_folders = ['../../comparative-analysis/static/data/param-ee-quadratic-{}'.format(a) for a in alpha_values]\n",
    "else:\n",
    "    graph_names = ['touch-leaf', 'touch-meta', 'some-leaf', 'some-meta', 'near-max-leaf', 'near-max-meta']\n",
    "    alpha_values = ['0.01', '0.2', '0.4', '0.6', '0.8', '0.99']\n",
    "    run_folders = ['../../comparative-analysis/static/data/param-nn-ne-{}'.format(a) for a in alpha_values]\n",
    "\n",
    "pprint(graph_names)\n",
    "pprint(run_folders)"
   ]
  },
  {
   "cell_type": "code",
   "execution_count": 20,
   "metadata": {
    "ExecuteTime": {
     "end_time": "2019-09-27T06:19:26.512266Z",
     "start_time": "2019-09-27T06:19:26.480809Z"
    }
   },
   "outputs": [
    {
     "name": "stdout",
     "output_type": "stream",
     "text": [
      "[[3.380352413928379, 12.148335346354303, 7.267236026349236, 56.761129620282986, 9.268405977093312, 149.32719955762298], [3.499274677921922, 12.111252348650389, 6.832109920282211, 54.46086830772465, 8.449216951186516, 136.72074235344638], [3.6244560084414417, 12.07221761422522, 6.374082440211659, 52.039540610294836, 7.5869127133898875, 123.45078740168145], [3.749637338960961, 12.033182879800048, 5.916054960141104, 49.61821291286501, 6.724608475593257, 110.18083244991654], [3.8748186694804803, 11.994148145374876, 5.4580274800705535, 47.19688521543519, 5.862304237796629, 96.91087749815162], [3.993740933474024, 11.957065147670965, 5.022901374003528, 44.89662390287686, 5.043115211889831, 84.30442029397499]]\n"
     ]
    }
   ],
   "source": [
    "counts = []\n",
    "penalties = []\n",
    "getting_counts = True\n",
    "for folder in run_folders:\n",
    "    tmp = []\n",
    "    for g in graph_names:\n",
    "        res_path = os.path.join(folder, 'progression-{}-{}_result.json'.format(WHICH_CASE, g))\n",
    "        res = json.load(open(res_path))\n",
    "        p = res['metrics'][WHICH_CASE]['total_penalty']\n",
    "        c = res['metrics'][WHICH_CASE]['total_count']\n",
    "        tmp.append(p)\n",
    "        if getting_counts:\n",
    "            counts.append(c)\n",
    "    getting_counts = False\n",
    "    penalties.append(tmp)\n",
    "print(penalties)"
   ]
  },
  {
   "cell_type": "code",
   "execution_count": 17,
   "metadata": {
    "ExecuteTime": {
     "end_time": "2019-09-27T06:18:52.340231Z",
     "start_time": "2019-09-27T06:18:52.319731Z"
    },
    "collapsed": true
   },
   "outputs": [],
   "source": [
    "# Write a latex tabular\n",
    "with open('{}.tex'.format(WHICH_CASE), 'w') as f:\n",
    "#     f.write('& ' + ' & '.join(str(c) for c in counts) + ' \\\\\\\\ \\n')\n",
    "    for i, x in enumerate(penalties):\n",
    "        f.write('& ' + alpha_values[i] + ' & ' + ' & '.join(['{:.2f}'.format(p) for p in x]) + ' \\\\\\\\ \\n')"
   ]
  },
  {
   "cell_type": "code",
   "execution_count": 18,
   "metadata": {
    "ExecuteTime": {
     "end_time": "2019-09-27T06:18:52.360492Z",
     "start_time": "2019-09-27T06:18:52.348797Z"
    }
   },
   "outputs": [
    {
     "name": "stdout",
     "output_type": "stream",
     "text": [
      "[4, 6, 5, 15, 5, 36]\n"
     ]
    }
   ],
   "source": [
    "pprint(counts)"
   ]
  },
  {
   "cell_type": "code",
   "execution_count": null,
   "metadata": {
    "collapsed": true
   },
   "outputs": [],
   "source": []
  }
 ],
 "metadata": {
  "kernelspec": {
   "display_name": "Python 3",
   "language": "python",
   "name": "python3"
  },
  "language_info": {
   "codemirror_mode": {
    "name": "ipython",
    "version": 3
   },
   "file_extension": ".py",
   "mimetype": "text/x-python",
   "name": "python",
   "nbconvert_exporter": "python",
   "pygments_lexer": "ipython3",
   "version": "3.6.9"
  }
 },
 "nbformat": 4,
 "nbformat_minor": 2
}
