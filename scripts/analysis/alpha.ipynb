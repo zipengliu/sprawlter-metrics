{
 "cells": [
  {
   "cell_type": "code",
   "execution_count": 66,
   "metadata": {
    "ExecuteTime": {
     "end_time": "2019-03-27T18:57:04.070651Z",
     "start_time": "2019-03-27T18:57:04.057414Z"
    },
    "collapsed": true
   },
   "outputs": [],
   "source": [
    "import os\n",
    "import json\n",
    "from pprint import pprint\n",
    "import pandas as pd\n",
    "import numpy as np\n",
    "import matplotlib.pyplot as plt\n",
    "%matplotlib inline  "
   ]
  },
  {
   "cell_type": "code",
   "execution_count": 67,
   "metadata": {
    "ExecuteTime": {
     "end_time": "2019-03-27T18:57:04.078340Z",
     "start_time": "2019-03-27T18:57:04.073477Z"
    },
    "collapsed": true
   },
   "outputs": [],
   "source": [
    "WHICH_CASE = 'ee'\n",
    "EE_FUNC_TYPE = 'quadratic'"
   ]
  },
  {
   "cell_type": "code",
   "execution_count": 68,
   "metadata": {
    "ExecuteTime": {
     "end_time": "2019-03-27T18:57:04.111216Z",
     "start_time": "2019-03-27T18:57:04.081667Z"
    }
   },
   "outputs": [
    {
     "name": "stdout",
     "output_type": "stream",
     "text": [
      "['ortho', 'half', 'near-glancing', 'glancing']\n",
      "['../../results-demo/public/data/param-ee-quadratic-0.01',\n",
      " '../../results-demo/public/data/param-ee-quadratic-0.07',\n",
      " '../../results-demo/public/data/param-ee-quadratic-0.13',\n",
      " '../../results-demo/public/data/param-ee-quadratic-0.20',\n",
      " '../../results-demo/public/data/param-ee-quadratic-0.26',\n",
      " '../../results-demo/public/data/param-ee-quadratic-0.328']\n"
     ]
    }
   ],
   "source": [
    "# alpha_values = ['0.01', '0.2', '0.4', '0.6', '0.8', '0.99']\n",
    "alpha_values = ['0.01', '0.07', '0.13', '0.20', '0.26', '0.328']\n",
    "\n",
    "if WHICH_CASE == 'ee':\n",
    "    graph_names = ['ortho', 'half', 'near-glancing', 'glancing']\n",
    "else:\n",
    "    graph_names = ['touch-leaf', 'touch-meta', 'some-leaf', 'some-meta', 'near-max-leaf', 'near-max-meta']\n",
    "pprint(graph_names)\n",
    "    \n",
    "run_folders = ['../../results-demo/public/data/param-ee-quadratic-{}'.format(a) for a in alpha_values]\n",
    "# run_folders = ['../../results-demo/public/data/param-nn-ne-{}'.format(a) for a in alpha_values]\n",
    "\n",
    "pprint(run_folders)"
   ]
  },
  {
   "cell_type": "code",
   "execution_count": 69,
   "metadata": {
    "ExecuteTime": {
     "end_time": "2019-03-27T18:57:04.172513Z",
     "start_time": "2019-03-27T18:57:04.117143Z"
    }
   },
   "outputs": [
    {
     "name": "stdout",
     "output_type": "stream",
     "text": [
      "[[0.050445533125275194, 0.9670280374849631, 4.78928756321678, 6.668818568991581], [0.34636707469434636, 1.1238221464667468, 4.3659035082384445, 5.960141785799623], [0.6422886162634175, 1.2806162554485303, 3.9425194532601093, 5.251465002607665], [0.9875304147606672, 1.4635427159272778, 3.4485713891187184, 4.424675422217046], [1.2834519563297382, 1.620336824909061, 3.0251873341403828, 3.7159986390250874], [1.6188297034413524, 1.798036815088416, 2.545352071831603, 2.9128316180742018]]\n"
     ]
    }
   ],
   "source": [
    "counts = []\n",
    "penalties = []\n",
    "getting_counts = True\n",
    "for folder in run_folders:\n",
    "    tmp = []\n",
    "    for g in graph_names:\n",
    "        res_path = os.path.join(folder, 'progression-{}-{}_result.json'.format(WHICH_CASE, g))\n",
    "        res = json.load(open(res_path))\n",
    "        p = res['metrics'][WHICH_CASE]['total_penalty']\n",
    "        c = res['metrics'][WHICH_CASE]['total_count']\n",
    "        tmp.append(p)\n",
    "        if getting_counts:\n",
    "            counts.append(c)\n",
    "    getting_counts = False\n",
    "    penalties.append(tmp)\n",
    "print(penalties)"
   ]
  },
  {
   "cell_type": "code",
   "execution_count": 70,
   "metadata": {
    "ExecuteTime": {
     "end_time": "2019-03-27T18:57:04.188993Z",
     "start_time": "2019-03-27T18:57:04.176760Z"
    },
    "collapsed": true
   },
   "outputs": [],
   "source": [
    "# Write a latex tabular\n",
    "with open('{}.tex'.format(WHICH_CASE), 'w') as f:\n",
    "#     f.write('& ' + ' & '.join(str(c) for c in counts) + ' \\\\\\\\ \\n')\n",
    "    for i, x in enumerate(penalties):\n",
    "        f.write('& ' + alpha_values[i] + ' & ' + ' & '.join(['{:.2f}'.format(p) for p in x]) + ' \\\\\\\\ \\n')"
   ]
  },
  {
   "cell_type": "code",
   "execution_count": 71,
   "metadata": {
    "ExecuteTime": {
     "end_time": "2019-03-27T18:57:04.200752Z",
     "start_time": "2019-03-27T18:57:04.194137Z"
    }
   },
   "outputs": [
    {
     "name": "stdout",
     "output_type": "stream",
     "text": [
      "[2, 2, 2, 2]\n"
     ]
    }
   ],
   "source": [
    "pprint(counts)"
   ]
  },
  {
   "cell_type": "code",
   "execution_count": null,
   "metadata": {
    "collapsed": true
   },
   "outputs": [],
   "source": []
  }
 ],
 "metadata": {
  "kernelspec": {
   "display_name": "Python 3",
   "language": "python",
   "name": "python3"
  },
  "language_info": {
   "codemirror_mode": {
    "name": "ipython",
    "version": 3
   },
   "file_extension": ".py",
   "mimetype": "text/x-python",
   "name": "python",
   "nbconvert_exporter": "python",
   "pygments_lexer": "ipython3",
   "version": "3.6.3"
  }
 },
 "nbformat": 4,
 "nbformat_minor": 2
}
