{
 "cells": [
  {
   "cell_type": "code",
   "execution_count": 1,
   "metadata": {
    "ExecuteTime": {
     "end_time": "2018-09-12T21:39:45.253058Z",
     "start_time": "2018-09-12T21:39:43.934296Z"
    }
   },
   "outputs": [],
   "source": [
    "from tulip import tlp\n",
    "from geometric import *\n",
    "import math\n",
    "\n",
    "LOG_BASE = 2\n",
    "ALPHA = 0.2"
   ]
  },
  {
   "cell_type": "code",
   "execution_count": 2,
   "metadata": {
    "ExecuteTime": {
     "end_time": "2018-09-12T21:39:45.272428Z",
     "start_time": "2018-09-12T21:39:45.259585Z"
    }
   },
   "outputs": [],
   "source": [
    "# penalty function of overlap area\n",
    "# m is the maximum possible overlap\n",
    "# Linear, slope = 1\n",
    "def penaltyFunc(x, m):\n",
    "    if x == 0:\n",
    "        return 0\n",
    "    elif x < (1 - ALPHA) * m:\n",
    "        return x + ALPHA * m\n",
    "    else:\n",
    "        return m"
   ]
  },
  {
   "cell_type": "code",
   "execution_count": 3,
   "metadata": {
    "ExecuteTime": {
     "end_time": "2018-09-12T21:39:45.286676Z",
     "start_time": "2018-09-12T21:39:45.278633Z"
    }
   },
   "outputs": [],
   "source": [
    "# Lienar, slope < 1\n",
    "# def penaltyFunc(x, m):\n",
    "#     if x == 0:\n",
    "#         return 0\n",
    "#     else:\n",
    "#         return (1 - ALPHA) * x + ALPHA * m"
   ]
  },
  {
   "cell_type": "code",
   "execution_count": 4,
   "metadata": {
    "ExecuteTime": {
     "end_time": "2018-09-12T21:39:45.300947Z",
     "start_time": "2018-09-12T21:39:45.292673Z"
    }
   },
   "outputs": [],
   "source": [
    "# Log\n",
    "# def penaltyFunc(x, m):\n",
    "#     if x == 0:\n",
    "#         return 0\n",
    "#     else:\n",
    "#         return math.log(x + 1, LOG_BASE) + ALPHA * m"
   ]
  },
  {
   "cell_type": "code",
   "execution_count": 5,
   "metadata": {
    "ExecuteTime": {
     "end_time": "2018-09-12T21:39:45.319703Z",
     "start_time": "2018-09-12T21:39:45.308075Z"
    }
   },
   "outputs": [],
   "source": [
    "# Get the center and radius of a node or subgraph v\n",
    "def getNodeCircle(v):\n",
    "    if isinstance(v, tlp.node):\n",
    "        return viewLayout[v], viewSize[v][0] / 2\n",
    "    else:\n",
    "        bc = tlp.computeBoundingRadius(v)\n",
    "        return bc[0], bc[0].dist(bc[1])"
   ]
  },
  {
   "cell_type": "code",
   "execution_count": 6,
   "metadata": {
    "ExecuteTime": {
     "end_time": "2018-09-12T21:39:45.347142Z",
     "start_time": "2018-09-12T21:39:45.328161Z"
    }
   },
   "outputs": [],
   "source": [
    "# Get the penalty for overlap between a node (or a subgraph / meta-node) v and an edge e\n",
    "def getNodeEdgePenalty(e, v):\n",
    "    s = viewLayout[graph.source(e)]\n",
    "    t = viewLayout[graph.target(e)]\n",
    "    center, radius = getNodeCircle(v)\n",
    "    o = crossLineSegmentAndCircle(s, t, center, radius)\n",
    "    if o > 0:\n",
    "        max_overlap = min(math.sqrt(dist2(s, t)), radius * 2)\n",
    "        p = penaltyFunc(o, max_overlap)\n",
    "        print '(meta-)node {} overlaps with edge {} (overlap area: {}, penalty: {})'.format(v, e, o, p)\n",
    "        return p\n",
    "    else:\n",
    "        return 0"
   ]
  },
  {
   "cell_type": "code",
   "execution_count": 7,
   "metadata": {
    "ExecuteTime": {
     "end_time": "2018-09-12T21:39:45.371683Z",
     "start_time": "2018-09-12T21:39:45.354417Z"
    }
   },
   "outputs": [],
   "source": [
    "# Get the panelty for overlap between two nodes or graphs v1 and v2, given that nodes are represented as circles\n",
    "def getNodeNodePenalty(v1, v2):  \n",
    "    c1, r1 = getNodeCircle(v1)\n",
    "    c2, r2 = getNodeCircle(v2)\n",
    "    # print 'getNNPenalty: ', v1, c1, r1, v2, c2, r2\n",
    "    o = getCircleOverlap(c1, r1, c2, r2)\n",
    "    if o > 0:\n",
    "        size1 = math.pi * r1 ** 2\n",
    "        size2 = math.pi * r2 ** 2\n",
    "        p = penaltyFunc(o, min(size1, size2))\n",
    "        print '(meta-)node {} overlaps with (meta-)node {} (overlap area: {}, penalty: {})'.format(v1, v2, o, p)\n",
    "        return p\n",
    "    else:\n",
    "        return 0"
   ]
  },
  {
   "cell_type": "code",
   "execution_count": 8,
   "metadata": {
    "ExecuteTime": {
     "end_time": "2018-09-12T21:39:45.385180Z",
     "start_time": "2018-09-12T21:39:45.377706Z"
    }
   },
   "outputs": [],
   "source": [
    "# TODO\n",
    "def getEdgeEdgeOverlap(e1, e2):\n",
    "    pass"
   ]
  },
  {
   "cell_type": "code",
   "execution_count": 9,
   "metadata": {
    "ExecuteTime": {
     "end_time": "2018-09-12T21:39:45.411497Z",
     "start_time": "2018-09-12T21:39:45.392075Z"
    }
   },
   "outputs": [],
   "source": [
    "# Get the overall node-node penalty for the whole graph\n",
    "def getGraphNodeNodePenalty(g):\n",
    "    penalty = 0\n",
    "            \n",
    "    for n1 in graph.getNodes():\n",
    "        # leaf node x leaf node\n",
    "        for n2 in graph.getNodes():\n",
    "            if n1.id < n2.id:        # Make sure no dupilcate pairs of nodes are considered\n",
    "                penalty += getNodeNodePenalty(n1, n2)\n",
    "    \n",
    "        # leaf node x subgraph\n",
    "        for subGraph in graph.getDescendantGraphs():\n",
    "            if not subGraph.isElement(n1):\n",
    "                penalty += getNodeNodePenalty(n1, subGraph)\n",
    "                    \n",
    "    for sub1 in graph.getDescendantGraphs():\n",
    "        for sub2 in graph.getDescendantGraphs():\n",
    "            if sub1.getId() < sub2.getId() and not sub2.isDescendantGraph(sub1):   # todo check if one contains the other \n",
    "                penalty += getNodeNodePenalty(sub1, sub2)\n",
    "                \n",
    "    return penalty"
   ]
  },
  {
   "cell_type": "code",
   "execution_count": 10,
   "metadata": {
    "ExecuteTime": {
     "end_time": "2018-09-12T21:39:45.434246Z",
     "start_time": "2018-09-12T21:39:45.418808Z"
    }
   },
   "outputs": [],
   "source": [
    "def getGraphNodeEdgePenalty(g):\n",
    "    penalty = 0\n",
    "    for e in graph.getEdges():\n",
    "        s, t = graph.ends(e)\n",
    "                \n",
    "        for node in graph.getNodes():\n",
    "            if node != s and node != t:\n",
    "                penalty += getNodeEdgePenalty(e, node)\n",
    "                \n",
    "        for subGraph in graph.getDescendantGraphs():\n",
    "            if not subGraph.isElement(s) and not subGraph.isElement(t):\n",
    "                penalty += getNodeEdgePenalty(e, subGraph)\n",
    "\n",
    "    return penalty"
   ]
  },
  {
   "cell_type": "code",
   "execution_count": 11,
   "metadata": {
    "ExecuteTime": {
     "end_time": "2018-09-12T21:39:45.456329Z",
     "start_time": "2018-09-12T21:39:45.441907Z"
    }
   },
   "outputs": [
    {
     "name": "stdout",
     "output_type": "stream",
     "text": [
      "[<node 0>, <node 1>, <node 2>, <node 3>, <node 4>, <node 5>, <node 6>]\n",
      "[<graph \"top\" (id 1) >, <graph \"mid\" (id 3) >, <graph \"mid1\" (id 2) >, <graph \"bot\" (id 4) >]\n"
     ]
    }
   ],
   "source": [
    "# Load the test graph\n",
    "graph = tlp.loadGraph('test1.tlp')\n",
    "print [x for x in graph.getNodes()]\n",
    "print [x for x in graph.getDescendantGraphs()]\n",
    "\n",
    "viewLayout = graph.getLayoutProperty('viewLayout')\n",
    "viewSize = graph.getSizeProperty('viewSize')"
   ]
  },
  {
   "cell_type": "code",
   "execution_count": 12,
   "metadata": {
    "ExecuteTime": {
     "end_time": "2018-09-12T21:39:45.473337Z",
     "start_time": "2018-09-12T21:39:45.463572Z"
    }
   },
   "outputs": [],
   "source": [
    "n1 = graph.nodes()[0]\n",
    "n2 = graph.nodes()[1]"
   ]
  },
  {
   "cell_type": "code",
   "execution_count": 13,
   "metadata": {
    "ExecuteTime": {
     "end_time": "2018-09-12T21:39:45.492813Z",
     "start_time": "2018-09-12T21:39:45.479851Z"
    }
   },
   "outputs": [
    {
     "name": "stdout",
     "output_type": "stream",
     "text": [
      "(meta-)node <node 1> overlaps with (meta-)node <node 2> (overlap area: 0.0904216905388, penalty: 0.247501323218)\n",
      "(meta-)node <node 2> overlaps with (meta-)node <graph \"mid1\" (id 2) > (overlap area: 0.785398163397, penalty: 0.785398163397)\n",
      "1.03289948662\n"
     ]
    }
   ],
   "source": [
    "print getGraphNodeNodePenalty(graph)"
   ]
  },
  {
   "cell_type": "code",
   "execution_count": 14,
   "metadata": {
    "ExecuteTime": {
     "end_time": "2018-09-12T21:39:45.513462Z",
     "start_time": "2018-09-12T21:39:45.499945Z"
    }
   },
   "outputs": [
    {
     "name": "stdout",
     "output_type": "stream",
     "text": [
      "[(-2.81762,6.34367,0), (-3.96957,4.42817,0), (-3.18507,4.38352,0)]\n"
     ]
    }
   ],
   "source": [
    "e = graph.edges()[5]\n",
    "g = graph.getDescendantGraph('mid')\n",
    "print [viewLayout[x] for x in g.getNodes()]"
   ]
  },
  {
   "cell_type": "code",
   "execution_count": 15,
   "metadata": {
    "ExecuteTime": {
     "end_time": "2018-09-12T21:39:45.537154Z",
     "start_time": "2018-09-12T21:39:45.520170Z"
    }
   },
   "outputs": [
    {
     "name": "stdout",
     "output_type": "stream",
     "text": [
      "(meta-)node <node 1> overlaps with edge <edge 5> (overlap area: 0.441846831892, penalty: 0.641846831892)\n",
      "(meta-)node <graph \"mid\" (id 3) > overlaps with edge <edge 5> (overlap area: 1.45170100748, penalty: 2.18926023066)\n",
      "(meta-)node <graph \"mid1\" (id 2) > overlaps with edge <edge 5> (overlap area: 1.42006680093, penalty: 2.14994994721)\n",
      "(meta-)node <graph \"mid1\" (id 2) > overlaps with edge <edge 7> (overlap area: 1.51038751376, penalty: 2.24027066004)\n",
      "7.2213276698\n"
     ]
    }
   ],
   "source": [
    "print getGraphNodeEdgePenalty(graph)"
   ]
  }
 ],
 "metadata": {
  "kernelspec": {
   "display_name": "Python 2",
   "language": "python",
   "name": "python2"
  },
  "language_info": {
   "codemirror_mode": {
    "name": "ipython",
    "version": 2
   },
   "file_extension": ".py",
   "mimetype": "text/x-python",
   "name": "python",
   "nbconvert_exporter": "python",
   "pygments_lexer": "ipython2",
   "version": "2.7.15"
  }
 },
 "nbformat": 4,
 "nbformat_minor": 2
}
