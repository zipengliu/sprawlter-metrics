{
 "cells": [
  {
   "cell_type": "code",
   "execution_count": 1,
   "metadata": {
    "ExecuteTime": {
     "end_time": "2018-09-24T21:35:36.140062Z",
     "start_time": "2018-09-24T21:35:34.894687Z"
    }
   },
   "outputs": [],
   "source": [
    "from tulip import tlp\n",
    "from geometric import *\n",
    "import math\n",
    "\n",
    "LOG_BASE = 2\n",
    "ALPHA = 0.2"
   ]
  },
  {
   "cell_type": "code",
   "execution_count": 2,
   "metadata": {
    "ExecuteTime": {
     "end_time": "2018-09-24T21:35:36.157886Z",
     "start_time": "2018-09-24T21:35:36.143963Z"
    }
   },
   "outputs": [],
   "source": [
    "# penalty function of overlap area\n",
    "# m is the maximum possible overlap\n",
    "# Linear, slope = 1\n",
    "def penaltyFunc(x, m):\n",
    "    if x == 0:\n",
    "        return 0\n",
    "    elif x < (1 - ALPHA) * m:\n",
    "        return x + ALPHA * m\n",
    "    else:\n",
    "        return m"
   ]
  },
  {
   "cell_type": "code",
   "execution_count": 3,
   "metadata": {
    "ExecuteTime": {
     "end_time": "2018-09-24T21:35:36.172435Z",
     "start_time": "2018-09-24T21:35:36.166272Z"
    }
   },
   "outputs": [],
   "source": [
    "# Lienar, slope < 1\n",
    "# def penaltyFunc(x, m):\n",
    "#     if x == 0:\n",
    "#         return 0\n",
    "#     else:\n",
    "#         return (1 - ALPHA) * x + ALPHA * m"
   ]
  },
  {
   "cell_type": "code",
   "execution_count": 4,
   "metadata": {
    "ExecuteTime": {
     "end_time": "2018-09-24T21:35:36.190422Z",
     "start_time": "2018-09-24T21:35:36.181665Z"
    }
   },
   "outputs": [],
   "source": [
    "# Log\n",
    "# def penaltyFunc(x, m):\n",
    "#     if x == 0:\n",
    "#         return 0\n",
    "#     else:\n",
    "#         return math.log(x + 1, LOG_BASE) + ALPHA * m"
   ]
  },
  {
   "cell_type": "code",
   "execution_count": 5,
   "metadata": {
    "ExecuteTime": {
     "end_time": "2018-09-24T21:35:36.209141Z",
     "start_time": "2018-09-24T21:35:36.199423Z"
    }
   },
   "outputs": [],
   "source": [
    "# Penalty function for edge edge crossing\n",
    "# Linear.  x the acute crossing angle is [0, PI / 2]\n",
    "def anglePenaltyFunc(x, m):\n",
    "    if x == 0: \n",
    "        return 0\n",
    "    else:\n",
    "        return m * (ALPHA - 1) / (math.pi / 2) * x + m"
   ]
  },
  {
   "cell_type": "code",
   "execution_count": 6,
   "metadata": {
    "ExecuteTime": {
     "end_time": "2018-09-24T21:35:36.230715Z",
     "start_time": "2018-09-24T21:35:36.218517Z"
    }
   },
   "outputs": [],
   "source": [
    "# Get the center and radius of a node or subgraph v\n",
    "def getNodeCircle(v):\n",
    "    if isinstance(v, tlp.node):\n",
    "        return viewLayout[v], viewSize[v][0] / 2\n",
    "    else:\n",
    "        bc = tlp.computeBoundingRadius(v)\n",
    "        return bc[0], bc[0].dist(bc[1])"
   ]
  },
  {
   "cell_type": "code",
   "execution_count": 7,
   "metadata": {
    "ExecuteTime": {
     "end_time": "2018-09-24T21:35:36.253866Z",
     "start_time": "2018-09-24T21:35:36.235858Z"
    }
   },
   "outputs": [],
   "source": [
    "# Get the penalty for overlap between a node (or a subgraph / meta-node) v and an edge e\n",
    "def getNodeEdgePenalty(e, v):\n",
    "    s = viewLayout[graph.source(e)]\n",
    "    t = viewLayout[graph.target(e)]\n",
    "    center, radius = getNodeCircle(v)\n",
    "    o = crossLineSegmentAndCircle(s, t, center, radius)\n",
    "    if o > 0:\n",
    "        max_overlap = min(math.sqrt(dist2(s, t)), radius * 2)\n",
    "        p = penaltyFunc(o, max_overlap)\n",
    "        print '(meta-)node {} overlaps with edge {} (overlap area: {}, penalty: {})'.format(v, e, o, p)\n",
    "        return p\n",
    "    else:\n",
    "        return 0"
   ]
  },
  {
   "cell_type": "code",
   "execution_count": 8,
   "metadata": {
    "ExecuteTime": {
     "end_time": "2018-09-24T21:35:36.277988Z",
     "start_time": "2018-09-24T21:35:36.261441Z"
    }
   },
   "outputs": [],
   "source": [
    "# Get the penalty for overlap between two nodes or graphs v1 and v2, given that nodes are represented as circles\n",
    "def getNodeNodePenalty(v1, v2):  \n",
    "    c1, r1 = getNodeCircle(v1)\n",
    "    c2, r2 = getNodeCircle(v2)\n",
    "    # print 'getNNPenalty: ', v1, c1, r1, v2, c2, r2\n",
    "    o = getCircleOverlap(c1, r1, c2, r2)\n",
    "    if o > 0:\n",
    "        size1 = math.pi * r1 ** 2\n",
    "        size2 = math.pi * r2 ** 2\n",
    "        p = penaltyFunc(o, min(size1, size2))\n",
    "        print '(meta-)node {} overlaps with (meta-)node {} (overlap area: {}, penalty: {})'.format(v1, v2, o, p)\n",
    "        return p\n",
    "    else:\n",
    "        return 0"
   ]
  },
  {
   "cell_type": "code",
   "execution_count": 9,
   "metadata": {
    "ExecuteTime": {
     "end_time": "2018-09-24T21:35:36.303595Z",
     "start_time": "2018-09-24T21:35:36.285441Z"
    }
   },
   "outputs": [],
   "source": [
    "# Get the penalty for edge intersection\n",
    "def getEdgeEdgePenalty(e1, e2):\n",
    "    # print e1, graph.ends(e1), e2, graph.ends(e2)\n",
    "    s1, t1 = [viewLayout[x] for x in graph.ends(e1)]\n",
    "    s2, t2 = [viewLayout[x] for x in graph.ends(e2)]\n",
    "    isIntersect = checkLineSegmentsIntersect(s1, t1, s2, t2)\n",
    "    if isIntersect:\n",
    "        a = getAngleBetweenLineSegments(s1, t1, s2, t2)\n",
    "        p = anglePenaltyFunc(a, 2)\n",
    "        print 'Edge {} intersects with edge {}: angle {} (deg) penalty {}'.format(e1, e2, a * 180 / math.pi, p)\n",
    "        return isIntersect, p\n",
    "    else:\n",
    "        return False, 0"
   ]
  },
  {
   "cell_type": "code",
   "execution_count": 10,
   "metadata": {
    "ExecuteTime": {
     "end_time": "2018-09-24T21:35:36.337019Z",
     "start_time": "2018-09-24T21:35:36.311984Z"
    }
   },
   "outputs": [],
   "source": [
    "# Get the overall node-node penalty for the whole graph\n",
    "def getGraphNodeNodePenalty(graph):\n",
    "    penalty = 0\n",
    "            \n",
    "    for n1 in graph.getNodes():\n",
    "        # leaf node x leaf node\n",
    "        for n2 in graph.getNodes():\n",
    "            if n1.id < n2.id:        # Make sure no dupilcate pairs of nodes are considered\n",
    "                penalty += getNodeNodePenalty(n1, n2)\n",
    "    \n",
    "        # leaf node x subgraph\n",
    "        for subGraph in graph.getDescendantGraphs():\n",
    "            if not subGraph.isElement(n1):\n",
    "                penalty += getNodeNodePenalty(n1, subGraph)\n",
    "                    \n",
    "    for sub1 in graph.getDescendantGraphs():\n",
    "        for sub2 in graph.getDescendantGraphs():\n",
    "            if sub1.getId() < sub2.getId() and not sub2.isDescendantGraph(sub1):   # todo check if one contains the other \n",
    "                penalty += getNodeNodePenalty(sub1, sub2)\n",
    "                \n",
    "    return penalty"
   ]
  },
  {
   "cell_type": "code",
   "execution_count": 11,
   "metadata": {
    "ExecuteTime": {
     "end_time": "2018-09-24T21:35:36.366823Z",
     "start_time": "2018-09-24T21:35:36.345370Z"
    }
   },
   "outputs": [],
   "source": [
    "def getGraphNodeEdgePenalty(graph):\n",
    "    penalty = 0\n",
    "    for e in graph.getEdges():\n",
    "        s, t = graph.ends(e)\n",
    "                \n",
    "        for node in graph.getNodes():\n",
    "            if node != s and node != t:\n",
    "                penalty += getNodeEdgePenalty(e, node)\n",
    "                \n",
    "        for subGraph in graph.getDescendantGraphs():\n",
    "            if not subGraph.isElement(s) and not subGraph.isElement(t):\n",
    "                penalty += getNodeEdgePenalty(e, subGraph)\n",
    "\n",
    "    return penalty"
   ]
  },
  {
   "cell_type": "code",
   "execution_count": 12,
   "metadata": {
    "ExecuteTime": {
     "end_time": "2018-09-24T21:35:36.391902Z",
     "start_time": "2018-09-24T21:35:36.373763Z"
    }
   },
   "outputs": [],
   "source": [
    "def getGraphEdgeEdgePenalty(graph):\n",
    "    penalty = 0\n",
    "    \n",
    "    for e1 in graph.getEdges():\n",
    "        for e2 in graph.getEdges():\n",
    "            if e1.id < e2.id and graph.source(e1) not in graph.ends(e2) and graph.target(e1) not in graph.ends(e2):\n",
    "                isIntersect, p = getEdgeEdgePenalty(e1, e2)\n",
    "                penalty += p\n",
    "    return penalty"
   ]
  },
  {
   "cell_type": "code",
   "execution_count": 13,
   "metadata": {
    "ExecuteTime": {
     "end_time": "2018-09-24T21:35:36.417912Z",
     "start_time": "2018-09-24T21:35:36.398753Z"
    }
   },
   "outputs": [
    {
     "name": "stdout",
     "output_type": "stream",
     "text": [
      "[<node 0>, <node 1>, <node 2>, <node 3>, <node 4>, <node 5>, <node 6>]\n",
      "[<graph \"top\" (id 1) >, <graph \"mid\" (id 3) >, <graph \"mid1\" (id 2) >, <graph \"bot\" (id 4) >]\n"
     ]
    }
   ],
   "source": [
    "# Load the test graph\n",
    "graph = tlp.loadGraph('test1.tlp')\n",
    "print [x for x in graph.getNodes()]\n",
    "print [x for x in graph.getDescendantGraphs()]\n",
    "\n",
    "viewLayout = graph.getLayoutProperty('viewLayout')\n",
    "viewSize = graph.getSizeProperty('viewSize')"
   ]
  },
  {
   "cell_type": "code",
   "execution_count": 14,
   "metadata": {
    "ExecuteTime": {
     "end_time": "2018-09-24T21:35:36.436649Z",
     "start_time": "2018-09-24T21:35:36.426414Z"
    }
   },
   "outputs": [],
   "source": [
    "n1 = graph.nodes()[0]\n",
    "n2 = graph.nodes()[1]"
   ]
  },
  {
   "cell_type": "code",
   "execution_count": 15,
   "metadata": {
    "ExecuteTime": {
     "end_time": "2018-09-24T21:35:36.458628Z",
     "start_time": "2018-09-24T21:35:36.444536Z"
    }
   },
   "outputs": [
    {
     "name": "stdout",
     "output_type": "stream",
     "text": [
      "(meta-)node <node 2> overlaps with (meta-)node <graph \"mid1\" (id 2) > (overlap area: 0.425130957168, penalty: 0.582210589848)\n",
      "0.582210589848\n"
     ]
    }
   ],
   "source": [
    "print getGraphNodeNodePenalty(graph)"
   ]
  },
  {
   "cell_type": "code",
   "execution_count": 16,
   "metadata": {
    "ExecuteTime": {
     "end_time": "2018-09-24T21:35:36.478634Z",
     "start_time": "2018-09-24T21:35:36.464776Z"
    }
   },
   "outputs": [
    {
     "name": "stdout",
     "output_type": "stream",
     "text": [
      "[(-2.81762,6.34367,0), (-4.56109,4.11955,0), (-1.77057,4.46068,0)]\n"
     ]
    }
   ],
   "source": [
    "e = graph.edges()[5]\n",
    "g = graph.getDescendantGraph('mid')\n",
    "print [viewLayout[x] for x in g.getNodes()]"
   ]
  },
  {
   "cell_type": "code",
   "execution_count": 17,
   "metadata": {
    "ExecuteTime": {
     "end_time": "2018-09-24T21:35:36.501506Z",
     "start_time": "2018-09-24T21:35:36.486717Z"
    }
   },
   "outputs": [
    {
     "name": "stdout",
     "output_type": "stream",
     "text": [
      "(meta-)node <node 1> overlaps with edge <edge 5> (overlap area: 0.252412607256, penalty: 0.452412607256)\n",
      "(meta-)node <graph \"mid\" (id 3) > overlaps with edge <edge 5> (overlap area: 2.12977304564, penalty: 3.12630224333)\n",
      "(meta-)node <graph \"mid1\" (id 2) > overlaps with edge <edge 5> (overlap area: 1.95803101083, penalty: 2.80607807656)\n",
      "(meta-)node <graph \"mid1\" (id 2) > overlaps with edge <edge 7> (overlap area: 0.467792765636, penalty: 1.31583983137)\n",
      "7.70063275852\n"
     ]
    }
   ],
   "source": [
    "print getGraphNodeEdgePenalty(graph)"
   ]
  },
  {
   "cell_type": "code",
   "execution_count": 18,
   "metadata": {
    "ExecuteTime": {
     "end_time": "2018-09-24T21:35:36.543364Z",
     "start_time": "2018-09-24T21:35:36.508145Z"
    }
   },
   "outputs": [
    {
     "name": "stdout",
     "output_type": "stream",
     "text": [
      "<edge 0> (<node 0>, <node 1>) <edge 3> (<node 5>, <node 6>)\n",
      "<edge 0> (<node 0>, <node 1>) <edge 4> (<node 3>, <node 4>)\n",
      "<edge 0> (<node 0>, <node 1>) <edge 5> (<node 5>, <node 3>)\n",
      "Edge <edge 0> intersects with edge <edge 5>: angle 61.7439960181 (deg) penalty 0.902328959678\n",
      "<edge 0> (<node 0>, <node 1>) <edge 7> (<node 2>, <node 3>)\n",
      "<edge 1> (<node 1>, <node 2>) <edge 3> (<node 5>, <node 6>)\n",
      "<edge 1> (<node 1>, <node 2>) <edge 4> (<node 3>, <node 4>)\n",
      "<edge 1> (<node 1>, <node 2>) <edge 5> (<node 5>, <node 3>)\n",
      "Edge <edge 1> intersects with edge <edge 5>: angle 73.318217886 (deg) penalty 0.69656501536\n",
      "<edge 1> (<node 1>, <node 2>) <edge 6> (<node 6>, <node 0>)\n",
      "<edge 2> (<node 2>, <node 0>) <edge 3> (<node 5>, <node 6>)\n",
      "<edge 2> (<node 2>, <node 0>) <edge 4> (<node 3>, <node 4>)\n",
      "<edge 2> (<node 2>, <node 0>) <edge 5> (<node 5>, <node 3>)\n",
      "<edge 3> (<node 5>, <node 6>) <edge 4> (<node 3>, <node 4>)\n",
      "<edge 3> (<node 5>, <node 6>) <edge 7> (<node 2>, <node 3>)\n",
      "<edge 4> (<node 3>, <node 4>) <edge 6> (<node 6>, <node 0>)\n",
      "<edge 5> (<node 5>, <node 3>) <edge 6> (<node 6>, <node 0>)\n",
      "<edge 6> (<node 6>, <node 0>) <edge 7> (<node 2>, <node 3>)\n",
      "1.59889397504\n"
     ]
    }
   ],
   "source": [
    "print getGraphEdgeEdgePenalty(graph)"
   ]
  },
  {
   "cell_type": "code",
   "execution_count": null,
   "metadata": {},
   "outputs": [],
   "source": []
  }
 ],
 "metadata": {
  "kernelspec": {
   "display_name": "Python 2",
   "language": "python",
   "name": "python2"
  },
  "language_info": {
   "codemirror_mode": {
    "name": "ipython",
    "version": 2
   },
   "file_extension": ".py",
   "mimetype": "text/x-python",
   "name": "python",
   "nbconvert_exporter": "python",
   "pygments_lexer": "ipython2",
   "version": "2.7.15"
  }
 },
 "nbformat": 4,
 "nbformat_minor": 2
}
