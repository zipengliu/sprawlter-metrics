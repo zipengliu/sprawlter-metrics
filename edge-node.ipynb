{
 "cells": [
  {
   "cell_type": "code",
   "execution_count": 152,
   "metadata": {
    "ExecuteTime": {
     "end_time": "2018-08-15T03:52:42.796198Z",
     "start_time": "2018-08-15T03:52:42.781690Z"
    }
   },
   "outputs": [],
   "source": [
    "from tulip import tlp\n",
    "from sympy import *\n",
    "from sympy.geometry import Segment, Point, Circle, Line, intersection\n",
    "\n",
    "EDGE_OFFSET = 0.1"
   ]
  },
  {
   "cell_type": "code",
   "execution_count": 153,
   "metadata": {
    "ExecuteTime": {
     "end_time": "2018-08-15T03:52:42.818641Z",
     "start_time": "2018-08-15T03:52:42.803302Z"
    }
   },
   "outputs": [],
   "source": [
    "graph = tlp.loadGraph('test0.tlp')"
   ]
  },
  {
   "cell_type": "code",
   "execution_count": 154,
   "metadata": {
    "ExecuteTime": {
     "end_time": "2018-08-15T03:52:42.832788Z",
     "start_time": "2018-08-15T03:52:42.823833Z"
    }
   },
   "outputs": [
    {
     "name": "stdout",
     "output_type": "stream",
     "text": [
      "[<node 0>, <node 1>, <node 2>, <node 3>, <node 4>, <node 5>, <node 6>]\n",
      "[<graph \"top\" (id 1) >, <graph \"mid\" (id 3) >, <graph \"mid1\" (id 2) >, <graph \"bot\" (id 4) >]\n"
     ]
    }
   ],
   "source": [
    "print [x for x in graph.getNodes()]\n",
    "print [x for x in graph.getDescendantGraphs()]"
   ]
  },
  {
   "cell_type": "code",
   "execution_count": 155,
   "metadata": {
    "ExecuteTime": {
     "end_time": "2018-08-15T03:52:42.845034Z",
     "start_time": "2018-08-15T03:52:42.838568Z"
    }
   },
   "outputs": [],
   "source": [
    "viewLayout = graph.getLayoutProperty('viewLayout')\n",
    "viewSize = graph.getSizeProperty('viewSize')"
   ]
  },
  {
   "cell_type": "code",
   "execution_count": 156,
   "metadata": {
    "ExecuteTime": {
     "end_time": "2018-08-15T03:52:42.862610Z",
     "start_time": "2018-08-15T03:52:42.852009Z"
    }
   },
   "outputs": [],
   "source": [
    "def crossLineSegmentAndCircle(seg, cir):\n",
    "    d = seg.distance(cir.center)\n",
    "    if d < cir.radius:\n",
    "        intersectLength = sqrt(cir.radius * cir.radius - d * d)\n",
    "        return intersectLength * EDGE_OFFSET\n",
    "    else: \n",
    "        return 0"
   ]
  },
  {
   "cell_type": "code",
   "execution_count": 157,
   "metadata": {
    "ExecuteTime": {
     "end_time": "2018-08-15T03:52:42.882776Z",
     "start_time": "2018-08-15T03:52:42.869860Z"
    }
   },
   "outputs": [],
   "source": [
    "def getNodeOverlap(e, v):\n",
    "    s = viewLayout[graph.source(e)]\n",
    "    t = viewLayout[graph.target(e)]\n",
    "    seg = Segment(Point(s.x(), s.y()), Point(t.x(), t.y()))\n",
    "    nodeCenter = Point(viewLayout[v].x(), viewLayout[v].y())\n",
    "    radius = viewSize[v][0] / 2\n",
    "    return crossLineSegmentAndCircle(seg, Circle(nodeCenter, radius))"
   ]
  },
  {
   "cell_type": "code",
   "execution_count": 158,
   "metadata": {
    "ExecuteTime": {
     "end_time": "2018-08-15T03:52:42.899405Z",
     "start_time": "2018-08-15T03:52:42.890440Z"
    }
   },
   "outputs": [],
   "source": [
    "n = graph.nodes()[1]\n",
    "e = graph.edges()[5]"
   ]
  },
  {
   "cell_type": "code",
   "execution_count": 159,
   "metadata": {
    "ExecuteTime": {
     "end_time": "2018-08-15T03:52:43.262622Z",
     "start_time": "2018-08-15T03:52:42.907581Z"
    }
   },
   "outputs": [
    {
     "data": {
      "text/plain": [
       "0.0486960260529321"
      ]
     },
     "execution_count": 159,
     "metadata": {},
     "output_type": "execute_result"
    }
   ],
   "source": [
    "getNodeOverlap(e, n)"
   ]
  },
  {
   "cell_type": "code",
   "execution_count": 160,
   "metadata": {
    "ExecuteTime": {
     "end_time": "2018-08-15T03:52:43.312571Z",
     "start_time": "2018-08-15T03:52:43.272750Z"
    }
   },
   "outputs": [],
   "source": [
    "def getSubGraphOverlap(e, g):\n",
    "    # print 'Calculating overlap between edge {} and subgraph {}'.format(e, g)\n",
    "    s = viewLayout[graph.source(e)]\n",
    "    t = viewLayout[graph.target(e)]\n",
    "    seg = Segment(Point(s.x(), s.y()), Point(t.x(), t.y()))\n",
    "    bc = tlp.computeBoundingRadius(g)\n",
    "    graphCenter = Point(bc[0].x(), bc[1].y())\n",
    "    radius = bc[0].dist(bc[1]) / 2.0\n",
    "    # print 'bounding circle: ', graphCenter, radius\n",
    "    return crossLineSegmentAndCircle(seg, Circle(graphCenter, radius))"
   ]
  },
  {
   "cell_type": "code",
   "execution_count": 161,
   "metadata": {
    "ExecuteTime": {
     "end_time": "2018-08-15T03:52:43.798812Z",
     "start_time": "2018-08-15T03:52:43.323978Z"
    }
   },
   "outputs": [
    {
     "name": "stdout",
     "output_type": "stream",
     "text": [
      "[(-2.81762,6.34367,0), (-3.55984,3.58271,0), (0.46692,2.99473,0)]\n",
      "0.0889189810731178\n"
     ]
    }
   ],
   "source": [
    "g = graph.getDescendantGraph('mid')\n",
    "print [viewLayout[x] for x in g.getNodes()]\n",
    "print getSubGraphOverlap(e, g)"
   ]
  },
  {
   "cell_type": "code",
   "execution_count": 167,
   "metadata": {
    "ExecuteTime": {
     "end_time": "2018-08-15T05:30:34.419448Z",
     "start_time": "2018-08-15T05:30:34.406511Z"
    }
   },
   "outputs": [],
   "source": [
    "def getSubGraphPenalty(e, g):\n",
    "    print '\\t',e, g\n",
    "    sum = getSubGraphOverlap(e, g)\n",
    "    for s in g.getDescendantGraphs():\n",
    "        sum += getSubGraphOverlap(e, s)\n",
    "    for n in g.getNodes():\n",
    "        sum += getNodeOverlap(e, n)\n",
    "    return sum"
   ]
  },
  {
   "cell_type": "code",
   "execution_count": 168,
   "metadata": {
    "ExecuteTime": {
     "end_time": "2018-08-15T05:30:37.123885Z",
     "start_time": "2018-08-15T05:30:34.617761Z"
    }
   },
   "outputs": [
    {
     "name": "stdout",
     "output_type": "stream",
     "text": [
      "\t<edge 5> <graph \"mid\" (id 3) >\n"
     ]
    },
    {
     "data": {
      "text/plain": [
       "0.244443065194017"
      ]
     },
     "execution_count": 168,
     "metadata": {},
     "output_type": "execute_result"
    }
   ],
   "source": [
    "getSubGraphPenalty(e, g)"
   ]
  },
  {
   "cell_type": "code",
   "execution_count": 169,
   "metadata": {
    "ExecuteTime": {
     "end_time": "2018-08-15T05:30:37.258864Z",
     "start_time": "2018-08-15T05:30:37.174711Z"
    }
   },
   "outputs": [],
   "source": [
    "def getGraphPenalty(g):\n",
    "    penalty = 0\n",
    "    for e in graph.getEdges():\n",
    "        s, t = graph.ends(e)\n",
    "        p = 0\n",
    "        \n",
    "        for subGraph in graph.getDescendantGraphs():\n",
    "            if not subGraph.isElement(s) and not subGraph.isElement(t):\n",
    "                p += getSubGraphPenalty(e, subGraph)\n",
    "        \n",
    "        for node in graph.getNodes():\n",
    "            if node != s and node != t:\n",
    "                p += getNodeOverlap(e, node)\n",
    "                \n",
    "        print 'penalty for edge {} is {}'.format(e, p)\n",
    "        penalty += p\n",
    "    return penalty"
   ]
  },
  {
   "cell_type": "code",
   "execution_count": 170,
   "metadata": {
    "ExecuteTime": {
     "end_time": "2018-08-15T05:31:21.166253Z",
     "start_time": "2018-08-15T05:30:40.147419Z"
    }
   },
   "outputs": [
    {
     "name": "stdout",
     "output_type": "stream",
     "text": [
      "\t<edge 0> <graph \"top\" (id 1) >\n",
      "\t<edge 0> <graph \"bot\" (id 4) >\n",
      "penalty for edge <edge 0> is 0\n",
      "\t<edge 1> <graph \"top\" (id 1) >\n",
      "\t<edge 1> <graph \"bot\" (id 4) >\n",
      "penalty for edge <edge 1> is 0\n",
      "\t<edge 2> <graph \"top\" (id 1) >\n",
      "\t<edge 2> <graph \"bot\" (id 4) >\n",
      "penalty for edge <edge 2> is 0\n",
      "\t<edge 3> <graph \"mid\" (id 3) >\n",
      "\t<edge 3> <graph \"mid1\" (id 2) >\n",
      "\t<edge 3> <graph \"bot\" (id 4) >\n",
      "penalty for edge <edge 3> is 0\n",
      "\t<edge 4> <graph \"top\" (id 1) >\n",
      "\t<edge 4> <graph \"mid\" (id 3) >\n",
      "\t<edge 4> <graph \"mid1\" (id 2) >\n",
      "penalty for edge <edge 4> is 0\n",
      "\t<edge 5> <graph \"mid\" (id 3) >\n",
      "\t<edge 5> <graph \"mid1\" (id 2) >\n",
      "penalty for edge <edge 5> is 0.448663175367848\n",
      "\t<edge 6> <graph \"bot\" (id 4) >\n",
      "penalty for edge <edge 6> is 0\n",
      "\t<edge 7> <graph \"top\" (id 1) >\n",
      "\t<edge 7> <graph \"mid1\" (id 2) >\n",
      "penalty for edge <edge 7> is 0\n",
      "0.448663175367848\n"
     ]
    }
   ],
   "source": [
    "print getGraphPenalty(graph)"
   ]
  },
  {
   "cell_type": "code",
   "execution_count": null,
   "metadata": {},
   "outputs": [],
   "source": []
  }
 ],
 "metadata": {
  "kernelspec": {
   "display_name": "Python 2",
   "language": "python",
   "name": "python2"
  },
  "language_info": {
   "codemirror_mode": {
    "name": "ipython",
    "version": 2
   },
   "file_extension": ".py",
   "mimetype": "text/x-python",
   "name": "python",
   "nbconvert_exporter": "python",
   "pygments_lexer": "ipython2",
   "version": "2.7.15"
  }
 },
 "nbformat": 4,
 "nbformat_minor": 2
}
